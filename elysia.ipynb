{
  "nbformat": 4,
  "nbformat_minor": 0,
  "metadata": {
    "colab": {
      "provenance": [],
      "authorship_tag": "ABX9TyOb0C1wktDpu6nk/wxPXnn8",
      "include_colab_link": true
    },
    "kernelspec": {
      "name": "python3",
      "display_name": "Python 3"
    },
    "language_info": {
      "name": "python"
    },
    "widgets": {
      "application/vnd.jupyter.widget-state+json": {
        "974ca07b95f548d9a595666b13d2feda": {
          "model_module": "@jupyter-widgets/output",
          "model_name": "OutputModel",
          "model_module_version": "1.0.0",
          "state": {
            "_dom_classes": [],
            "_model_module": "@jupyter-widgets/output",
            "_model_module_version": "1.0.0",
            "_model_name": "OutputModel",
            "_view_count": null,
            "_view_module": "@jupyter-widgets/output",
            "_view_module_version": "1.0.0",
            "_view_name": "OutputView",
            "layout": "IPY_MODEL_d7b47f4ef364489db6e165de3c4bb44f",
            "msg_id": "",
            "outputs": [
              {
                "output_type": "display_data",
                "data": {
                  "text/plain": "\u001b[32m⠏\u001b[0m Running add...\n",
                  "text/html": "<pre style=\"white-space:pre;overflow-x:auto;line-height:normal;font-family:Menlo,'DejaVu Sans Mono',consolas,'Courier New',monospace\"><span style=\"color: #008000; text-decoration-color: #008000\">⠏</span> Running add...\n</pre>\n"
                },
                "metadata": {}
              }
            ]
          }
        },
        "d7b47f4ef364489db6e165de3c4bb44f": {
          "model_module": "@jupyter-widgets/base",
          "model_name": "LayoutModel",
          "model_module_version": "1.2.0",
          "state": {
            "_model_module": "@jupyter-widgets/base",
            "_model_module_version": "1.2.0",
            "_model_name": "LayoutModel",
            "_view_count": null,
            "_view_module": "@jupyter-widgets/base",
            "_view_module_version": "1.2.0",
            "_view_name": "LayoutView",
            "align_content": null,
            "align_items": null,
            "align_self": null,
            "border": null,
            "bottom": null,
            "display": null,
            "flex": null,
            "flex_flow": null,
            "grid_area": null,
            "grid_auto_columns": null,
            "grid_auto_flow": null,
            "grid_auto_rows": null,
            "grid_column": null,
            "grid_gap": null,
            "grid_row": null,
            "grid_template_areas": null,
            "grid_template_columns": null,
            "grid_template_rows": null,
            "height": null,
            "justify_content": null,
            "justify_items": null,
            "left": null,
            "margin": null,
            "max_height": null,
            "max_width": null,
            "min_height": null,
            "min_width": null,
            "object_fit": null,
            "object_position": null,
            "order": null,
            "overflow": null,
            "overflow_x": null,
            "overflow_y": null,
            "padding": null,
            "right": null,
            "top": null,
            "visibility": null,
            "width": null
          }
        },
        "df2de9bc86d845a4b629322127031dd4": {
          "model_module": "@jupyter-widgets/output",
          "model_name": "OutputModel",
          "model_module_version": "1.0.0",
          "state": {
            "_dom_classes": [],
            "_model_module": "@jupyter-widgets/output",
            "_model_module_version": "1.0.0",
            "_model_name": "OutputModel",
            "_view_count": null,
            "_view_module": "@jupyter-widgets/output",
            "_view_module_version": "1.0.0",
            "_view_name": "OutputView",
            "layout": "IPY_MODEL_ae583b118a864b889834114dbd867913",
            "msg_id": "",
            "outputs": [
              {
                "output_type": "display_data",
                "data": {
                  "text/plain": "Preprocessing Student \u001b[38;5;237m━━━━━━━━━━━━━━━━━━━━━━━━━━━━━━━━━━━━━━━━\u001b[0m \u001b[35m  0%\u001b[0m \u001b[36m-:--:--\u001b[0m\n",
                  "text/html": "<pre style=\"white-space:pre;overflow-x:auto;line-height:normal;font-family:Menlo,'DejaVu Sans Mono',consolas,'Courier New',monospace\">Preprocessing Student <span style=\"color: #3a3a3a; text-decoration-color: #3a3a3a\">━━━━━━━━━━━━━━━━━━━━━━━━━━━━━━━━━━━━━━━━</span> <span style=\"color: #800080; text-decoration-color: #800080\">  0%</span> <span style=\"color: #008080; text-decoration-color: #008080\">-:--:--</span>\n</pre>\n"
                },
                "metadata": {}
              }
            ]
          }
        },
        "ae583b118a864b889834114dbd867913": {
          "model_module": "@jupyter-widgets/base",
          "model_name": "LayoutModel",
          "model_module_version": "1.2.0",
          "state": {
            "_model_module": "@jupyter-widgets/base",
            "_model_module_version": "1.2.0",
            "_model_name": "LayoutModel",
            "_view_count": null,
            "_view_module": "@jupyter-widgets/base",
            "_view_module_version": "1.2.0",
            "_view_name": "LayoutView",
            "align_content": null,
            "align_items": null,
            "align_self": null,
            "border": null,
            "bottom": null,
            "display": null,
            "flex": null,
            "flex_flow": null,
            "grid_area": null,
            "grid_auto_columns": null,
            "grid_auto_flow": null,
            "grid_auto_rows": null,
            "grid_column": null,
            "grid_gap": null,
            "grid_row": null,
            "grid_template_areas": null,
            "grid_template_columns": null,
            "grid_template_rows": null,
            "height": null,
            "justify_content": null,
            "justify_items": null,
            "left": null,
            "margin": null,
            "max_height": null,
            "max_width": null,
            "min_height": null,
            "min_width": null,
            "object_fit": null,
            "object_position": null,
            "order": null,
            "overflow": null,
            "overflow_x": null,
            "overflow_y": null,
            "padding": null,
            "right": null,
            "top": null,
            "visibility": null,
            "width": null
          }
        },
        "6d5be2a7f61f4a6ca307aab05743f59d": {
          "model_module": "@jupyter-widgets/output",
          "model_name": "OutputModel",
          "model_module_version": "1.0.0",
          "state": {
            "_dom_classes": [],
            "_model_module": "@jupyter-widgets/output",
            "_model_module_version": "1.0.0",
            "_model_name": "OutputModel",
            "_view_count": null,
            "_view_module": "@jupyter-widgets/output",
            "_view_module_version": "1.0.0",
            "_view_name": "OutputView",
            "layout": "IPY_MODEL_65822c66d1864d4690edda7406b02d1e",
            "msg_id": "",
            "outputs": [
              {
                "output_type": "display_data",
                "data": {
                  "text/plain": "\u001b[32m⠇\u001b[0m Thinking...\n",
                  "text/html": "<pre style=\"white-space:pre;overflow-x:auto;line-height:normal;font-family:Menlo,'DejaVu Sans Mono',consolas,'Courier New',monospace\"><span style=\"color: #008000; text-decoration-color: #008000\">⠇</span> Thinking...\n</pre>\n"
                },
                "metadata": {}
              }
            ]
          }
        },
        "65822c66d1864d4690edda7406b02d1e": {
          "model_module": "@jupyter-widgets/base",
          "model_name": "LayoutModel",
          "model_module_version": "1.2.0",
          "state": {
            "_model_module": "@jupyter-widgets/base",
            "_model_module_version": "1.2.0",
            "_model_name": "LayoutModel",
            "_view_count": null,
            "_view_module": "@jupyter-widgets/base",
            "_view_module_version": "1.2.0",
            "_view_name": "LayoutView",
            "align_content": null,
            "align_items": null,
            "align_self": null,
            "border": null,
            "bottom": null,
            "display": null,
            "flex": null,
            "flex_flow": null,
            "grid_area": null,
            "grid_auto_columns": null,
            "grid_auto_flow": null,
            "grid_auto_rows": null,
            "grid_column": null,
            "grid_gap": null,
            "grid_row": null,
            "grid_template_areas": null,
            "grid_template_columns": null,
            "grid_template_rows": null,
            "height": null,
            "justify_content": null,
            "justify_items": null,
            "left": null,
            "margin": null,
            "max_height": null,
            "max_width": null,
            "min_height": null,
            "min_width": null,
            "object_fit": null,
            "object_position": null,
            "order": null,
            "overflow": null,
            "overflow_x": null,
            "overflow_y": null,
            "padding": null,
            "right": null,
            "top": null,
            "visibility": null,
            "width": null
          }
        },
        "81ac1909339148e79ecd996a5ec4e869": {
          "model_module": "@jupyter-widgets/output",
          "model_name": "OutputModel",
          "model_module_version": "1.0.0",
          "state": {
            "_dom_classes": [],
            "_model_module": "@jupyter-widgets/output",
            "_model_module_version": "1.0.0",
            "_model_name": "OutputModel",
            "_view_count": null,
            "_view_module": "@jupyter-widgets/output",
            "_view_module_version": "1.0.0",
            "_view_name": "OutputView",
            "layout": "IPY_MODEL_7d9e82b0194c44d6b9c2170389f95551",
            "msg_id": "",
            "outputs": [
              {
                "output_type": "display_data",
                "data": {
                  "text/plain": "\u001b[32m⠼\u001b[0m Summarizing...\n",
                  "text/html": "<pre style=\"white-space:pre;overflow-x:auto;line-height:normal;font-family:Menlo,'DejaVu Sans Mono',consolas,'Courier New',monospace\"><span style=\"color: #008000; text-decoration-color: #008000\">⠼</span> Summarizing...\n</pre>\n"
                },
                "metadata": {}
              }
            ]
          }
        },
        "7d9e82b0194c44d6b9c2170389f95551": {
          "model_module": "@jupyter-widgets/base",
          "model_name": "LayoutModel",
          "model_module_version": "1.2.0",
          "state": {
            "_model_module": "@jupyter-widgets/base",
            "_model_module_version": "1.2.0",
            "_model_name": "LayoutModel",
            "_view_count": null,
            "_view_module": "@jupyter-widgets/base",
            "_view_module_version": "1.2.0",
            "_view_name": "LayoutView",
            "align_content": null,
            "align_items": null,
            "align_self": null,
            "border": null,
            "bottom": null,
            "display": null,
            "flex": null,
            "flex_flow": null,
            "grid_area": null,
            "grid_auto_columns": null,
            "grid_auto_flow": null,
            "grid_auto_rows": null,
            "grid_column": null,
            "grid_gap": null,
            "grid_row": null,
            "grid_template_areas": null,
            "grid_template_columns": null,
            "grid_template_rows": null,
            "height": null,
            "justify_content": null,
            "justify_items": null,
            "left": null,
            "margin": null,
            "max_height": null,
            "max_width": null,
            "min_height": null,
            "min_width": null,
            "object_fit": null,
            "object_position": null,
            "order": null,
            "overflow": null,
            "overflow_x": null,
            "overflow_y": null,
            "padding": null,
            "right": null,
            "top": null,
            "visibility": null,
            "width": null
          }
        },
        "9052ab6d4a7a4e36a39970e1cbbdccb6": {
          "model_module": "@jupyter-widgets/output",
          "model_name": "OutputModel",
          "model_module_version": "1.0.0",
          "state": {
            "_dom_classes": [],
            "_model_module": "@jupyter-widgets/output",
            "_model_module_version": "1.0.0",
            "_model_name": "OutputModel",
            "_view_count": null,
            "_view_module": "@jupyter-widgets/output",
            "_view_module_version": "1.0.0",
            "_view_name": "OutputView",
            "layout": "IPY_MODEL_53c2fff36b4f4436b2e21644457d614e",
            "msg_id": "",
            "outputs": [
              {
                "output_type": "display_data",
                "data": {
                  "text/plain": "\u001b[32m⠼\u001b[0m Summarizing...\n",
                  "text/html": "<pre style=\"white-space:pre;overflow-x:auto;line-height:normal;font-family:Menlo,'DejaVu Sans Mono',consolas,'Courier New',monospace\"><span style=\"color: #008000; text-decoration-color: #008000\">⠼</span> Summarizing...\n</pre>\n"
                },
                "metadata": {}
              }
            ]
          }
        },
        "53c2fff36b4f4436b2e21644457d614e": {
          "model_module": "@jupyter-widgets/base",
          "model_name": "LayoutModel",
          "model_module_version": "1.2.0",
          "state": {
            "_model_module": "@jupyter-widgets/base",
            "_model_module_version": "1.2.0",
            "_model_name": "LayoutModel",
            "_view_count": null,
            "_view_module": "@jupyter-widgets/base",
            "_view_module_version": "1.2.0",
            "_view_name": "LayoutView",
            "align_content": null,
            "align_items": null,
            "align_self": null,
            "border": null,
            "bottom": null,
            "display": null,
            "flex": null,
            "flex_flow": null,
            "grid_area": null,
            "grid_auto_columns": null,
            "grid_auto_flow": null,
            "grid_auto_rows": null,
            "grid_column": null,
            "grid_gap": null,
            "grid_row": null,
            "grid_template_areas": null,
            "grid_template_columns": null,
            "grid_template_rows": null,
            "height": null,
            "justify_content": null,
            "justify_items": null,
            "left": null,
            "margin": null,
            "max_height": null,
            "max_width": null,
            "min_height": null,
            "min_width": null,
            "object_fit": null,
            "object_position": null,
            "order": null,
            "overflow": null,
            "overflow_x": null,
            "overflow_y": null,
            "padding": null,
            "right": null,
            "top": null,
            "visibility": null,
            "width": null
          }
        }
      }
    }
  },
  "cells": [
    {
      "cell_type": "markdown",
      "metadata": {
        "id": "view-in-github",
        "colab_type": "text"
      },
      "source": [
        "<a href=\"https://colab.research.google.com/github/pratik-gond/temp_files/blob/main/elysia.ipynb\" target=\"_parent\"><img src=\"https://colab.research.google.com/assets/colab-badge.svg\" alt=\"Open In Colab\"/></a>"
      ]
    },
    {
      "cell_type": "markdown",
      "source": [
        "<img src=\"https://drive.google.com/uc?export=view&id=1wYSMgJtARFdvTt5g7E20mE4NmwUFUuog\" width=\"200\">\n",
        "\n",
        "[![Build Fast with AI](https://img.shields.io/badge/BuildFastWithAI-GenAI%20Bootcamp-blue?style=for-the-badge&logo=artificial-intelligence)](https://www.buildfastwithai.com/genai-course)\n",
        "[![EduChain GitHub](https://img.shields.io/github/stars/satvik314/educhain?style=for-the-badge&logo=github&color=gold)](https://github.com/satvik314/educhain)\n",
        "\n",
        "[![Open In Colab](https://colab.research.google.com/assets/colab-badge.svg)](https://colab.research.google.com/drive/1KxCJz4FIwiiR6kjuk8w8SiQJzu8uZuzB?usp=sharing)\n",
        "## Master Generative AI in 6 Weeks\n",
        "**What You'll Learn:**\n",
        "- Build with Latest LLMs\n",
        "- Create Custom AI Apps\n",
        "- Learn from Industry Experts\n",
        "- Join Innovation Community\n",
        "Transform your AI ideas into reality through hands-on projects and expert mentorship.\n",
        "[Start Your Journey](https://www.buildfastwithai.com/genai-course)\n",
        "*Empowering the Next Generation of AI Innovators"
      ],
      "metadata": {
        "id": "HyQQmCExZN3F"
      }
    },
    {
      "cell_type": "markdown",
      "source": [
        "### Elysia Tutorial: From Basics to Advanced (with Students use case)\n",
        "\n",
        "This tutorial notebook walks you through Elysia — an agentic framework that chooses and runs tools — from the very basics to advanced customization, ending with a practical use case using a Students dataset.\n",
        "\n",
        "What you'll do:\n",
        "- Install and configure Elysia\n",
        "- Create and run a minimal custom tool\n",
        "- Connect to a Weaviate cluster and preprocess a collection\n",
        "- Ask natural-language questions over data\n",
        "- Build an advanced custom tool (linear regression)\n",
        "- Apply it to a Students dataset to answer a real question\n",
        "\n",
        "Dataset context: we'll reference a `Student` collection with fields like `Student_ID`, `Gender`, `Study_Hours`, `Attendance`, `Past_Exam`, `Parental_Education`, `Internet_Access`, `Extracurricular`, `Final_Exam`, `Pass_Fail`. Adjust field names if your schema differs.\n"
      ],
      "metadata": {
        "id": "9YPtoZAlZQYL"
      }
    },
    {
      "cell_type": "markdown",
      "source": [
        "### 0. Setup and Installation\n",
        "\n",
        "- This installs `elysia-ai`.\n",
        "- Keep your keys secret. In Colab, you can use `google.colab.userdata`.\n",
        "\n",
        "If you're not using Weaviate, you can still run the basic examples.\n"
      ],
      "metadata": {
        "id": "zzNfqES5ZVSz"
      }
    },
    {
      "cell_type": "code",
      "execution_count": null,
      "metadata": {
        "id": "3LddxZlSZMV3"
      },
      "outputs": [],
      "source": [
        "# Install core package (quiet to reduce noise)\n",
        "!pip install -U elysia-ai --quiet"
      ]
    },
    {
      "cell_type": "markdown",
      "source": [
        "### 1. Configure Elysia\n",
        "\n",
        "You must configure which models to use and how to access them. Elysia integrates via LiteLLM through DSPy and supports many providers.\n",
        "\n",
        "- Set your `OPENAI_API_KEY` (or other provider keys) here.\n",
        "- If using Weaviate Cloud, also set `WCD_URL` and `WCD_API_KEY`.\n",
        "\n",
        "You can leave Weaviate variables unset to run only the basic examples.\n"
      ],
      "metadata": {
        "id": "9iIP3_7dZdXr"
      }
    },
    {
      "cell_type": "code",
      "source": [
        "import os\n",
        "from google.colab import userdata\n",
        "\n",
        "OPENAI_API_KEY = userdata.get(\"OPENAI_API_KEY\")\n",
        "\n",
        "from elysia import configure\n",
        "\n",
        "configure(\n",
        "    base_model=\"gpt-4.1-mini\",\n",
        "    base_provider=\"openai\",\n",
        "    complex_model=\"gpt-4.1\",\n",
        "    complex_provider=\"openai\",\n",
        "    openai_api_key=OPENAI_API_KEY,\n",
        "\n",
        ")"
      ],
      "metadata": {
        "id": "DIycEZ3KZePU"
      },
      "execution_count": 2,
      "outputs": []
    },
    {
      "cell_type": "markdown",
      "source": [
        "### 2. Basic: Minimal Tool and Tree\n",
        "\n",
        "A tool is just an async function decorated with `@tool`. The docstring becomes the tool's description.\n",
        "\n",
        "We'll create `add(x, y)` and call the tree with a simple math question.\n"
      ],
      "metadata": {
        "id": "i59FWAVrZhhD"
      }
    },
    {
      "cell_type": "code",
      "source": [
        "from elysia import tool, Tree\n",
        "\n",
        "# Create a decision tree\n",
        "basic_tree = Tree()\n",
        "\n",
        "@tool(tree=basic_tree)\n",
        "async def add(x: int, y: int) -> int:\n",
        "    \"\"\"Return the sum of two integers x and y.\"\"\"\n",
        "    return x + y\n",
        "\n",
        "# Run the tree with a simple prompt\n",
        "basic_response = basic_tree(\"What is the sum of 9009 and 6006?\")\n",
        "basic_response\n"
      ],
      "metadata": {
        "colab": {
          "base_uri": "https://localhost:8080/",
          "height": 660,
          "referenced_widgets": [
            "974ca07b95f548d9a595666b13d2feda",
            "d7b47f4ef364489db6e165de3c4bb44f"
          ]
        },
        "id": "87V9fISVZjvE",
        "outputId": "f1a7c0dc-b353-4385-ff64-c033716c67ef"
      },
      "execution_count": 3,
      "outputs": [
        {
          "output_type": "display_data",
          "data": {
            "text/plain": [
              "\u001b[2;36m[08/19/25 03:37:02]\u001b[0m\u001b[2;36m \u001b[0m\u001b[33mWARNING \u001b[0m WCD_URL and WCD_API_KEY are not set. All Weaviate functionality will be  \u001b]8;id=448100;file:///usr/local/lib/python3.11/dist-packages/elysia/util/client.py\u001b\\\u001b[2mclient.py\u001b[0m\u001b]8;;\u001b\\\u001b[2m:\u001b[0m\u001b]8;id=605171;file:///usr/local/lib/python3.11/dist-packages/elysia/util/client.py#151\u001b\\\u001b[2m151\u001b[0m\u001b]8;;\u001b\\\n",
              "\u001b[2;36m                    \u001b[0m         disabled.                                                                \u001b[2m             \u001b[0m\n"
            ],
            "text/html": [
              "<pre style=\"white-space:pre;overflow-x:auto;line-height:normal;font-family:Menlo,'DejaVu Sans Mono',consolas,'Courier New',monospace\"><span style=\"color: #7fbfbf; text-decoration-color: #7fbfbf\">[08/19/25 03:37:02] </span><span style=\"color: #808000; text-decoration-color: #808000\">WARNING </span> WCD_URL and WCD_API_KEY are not set. All Weaviate functionality will be  <a href=\"file:///usr/local/lib/python3.11/dist-packages/elysia/util/client.py\" target=\"_blank\"><span style=\"color: #7f7f7f; text-decoration-color: #7f7f7f\">client.py</span></a><span style=\"color: #7f7f7f; text-decoration-color: #7f7f7f\">:</span><a href=\"file:///usr/local/lib/python3.11/dist-packages/elysia/util/client.py#151\" target=\"_blank\"><span style=\"color: #7f7f7f; text-decoration-color: #7f7f7f\">151</span></a>\n",
              "<span style=\"color: #7fbfbf; text-decoration-color: #7fbfbf\">                    </span>         disabled.                                                                <span style=\"color: #7f7f7f; text-decoration-color: #7f7f7f\">             </span>\n",
              "</pre>\n"
            ]
          },
          "metadata": {}
        },
        {
          "output_type": "display_data",
          "data": {
            "text/plain": [
              "\u001b[33m╭─\u001b[0m\u001b[33m──────────\u001b[0m\u001b[33m User prompt \u001b[0m\u001b[33m──────────\u001b[0m\u001b[33m─╮\u001b[0m\n",
              "\u001b[33m│\u001b[0m                                   \u001b[33m│\u001b[0m\n",
              "\u001b[33m│\u001b[0m What is the sum of 9009 and 6006? \u001b[33m│\u001b[0m\n",
              "\u001b[33m│\u001b[0m                                   \u001b[33m│\u001b[0m\n",
              "\u001b[33m╰───────────────────────────────────╯\u001b[0m\n"
            ],
            "text/html": [
              "<pre style=\"white-space:pre;overflow-x:auto;line-height:normal;font-family:Menlo,'DejaVu Sans Mono',consolas,'Courier New',monospace\"><span style=\"color: #808000; text-decoration-color: #808000\">╭─────────── User prompt ───────────╮</span>\n",
              "<span style=\"color: #808000; text-decoration-color: #808000\">│</span>                                   <span style=\"color: #808000; text-decoration-color: #808000\">│</span>\n",
              "<span style=\"color: #808000; text-decoration-color: #808000\">│</span> What is the sum of 9009 and 6006? <span style=\"color: #808000; text-decoration-color: #808000\">│</span>\n",
              "<span style=\"color: #808000; text-decoration-color: #808000\">│</span>                                   <span style=\"color: #808000; text-decoration-color: #808000\">│</span>\n",
              "<span style=\"color: #808000; text-decoration-color: #808000\">╰───────────────────────────────────╯</span>\n",
              "</pre>\n"
            ]
          },
          "metadata": {}
        },
        {
          "output_type": "display_data",
          "data": {
            "text/plain": [
              "Output()"
            ],
            "application/vnd.jupyter.widget-view+json": {
              "version_major": 2,
              "version_minor": 0,
              "model_id": "974ca07b95f548d9a595666b13d2feda"
            }
          },
          "metadata": {}
        },
        {
          "output_type": "display_data",
          "data": {
            "text/plain": [
              "\u001b[36m╭─\u001b[0m\u001b[36m──────────────────────\u001b[0m\u001b[36m Assistant response \u001b[0m\u001b[36m───────────────────────\u001b[0m\u001b[36m─╮\u001b[0m\n",
              "\u001b[36m│\u001b[0m                                                                   \u001b[36m│\u001b[0m\n",
              "\u001b[36m│\u001b[0m I will calculate the sum of 9009 and 6006 using the add function. \u001b[36m│\u001b[0m\n",
              "\u001b[36m│\u001b[0m                                                                   \u001b[36m│\u001b[0m\n",
              "\u001b[36m╰───────────────────────────────────────────────────────────────────╯\u001b[0m\n"
            ],
            "text/html": [
              "<pre style=\"white-space:pre;overflow-x:auto;line-height:normal;font-family:Menlo,'DejaVu Sans Mono',consolas,'Courier New',monospace\"><span style=\"color: #008080; text-decoration-color: #008080\">╭─────────────────────── Assistant response ────────────────────────╮</span>\n",
              "<span style=\"color: #008080; text-decoration-color: #008080\">│</span>                                                                   <span style=\"color: #008080; text-decoration-color: #008080\">│</span>\n",
              "<span style=\"color: #008080; text-decoration-color: #008080\">│</span> I will calculate the sum of 9009 and 6006 using the add function. <span style=\"color: #008080; text-decoration-color: #008080\">│</span>\n",
              "<span style=\"color: #008080; text-decoration-color: #008080\">│</span>                                                                   <span style=\"color: #008080; text-decoration-color: #008080\">│</span>\n",
              "<span style=\"color: #008080; text-decoration-color: #008080\">╰───────────────────────────────────────────────────────────────────╯</span>\n",
              "</pre>\n"
            ]
          },
          "metadata": {}
        },
        {
          "output_type": "display_data",
          "data": {
            "text/plain": [
              "\u001b[35m╭─\u001b[0m\u001b[35m──────────────────────────────────────────────\u001b[0m\u001b[35m Current Decision \u001b[0m\u001b[35m───────────────────────────────────────────────\u001b[0m\u001b[35m─╮\u001b[0m\n",
              "\u001b[35m│\u001b[0m                                                                                                                 \u001b[35m│\u001b[0m\n",
              "\u001b[35m│\u001b[0m \u001b[1mNode:\u001b[0m \u001b[35mbase\u001b[0m                                                                                                      \u001b[35m│\u001b[0m\n",
              "\u001b[35m│\u001b[0m \u001b[1mDecision:\u001b[0m \u001b[32madd\u001b[0m                                                                                                   \u001b[35m│\u001b[0m\n",
              "\u001b[35m│\u001b[0m \u001b[1mReasoning:\u001b[0m The user's prompt is a straightforward arithmetic question asking for the sum of two integers, 9009  \u001b[35m│\u001b[0m\n",
              "\u001b[35m│\u001b[0m and 6006. Among the available actions, the \"add\" function is specifically designed to return the sum of two     \u001b[35m│\u001b[0m\n",
              "\u001b[35m│\u001b[0m integers, making it the most appropriate and direct choice to fulfill the user's request efficiently and        \u001b[35m│\u001b[0m\n",
              "\u001b[35m│\u001b[0m accurately.                                                                                                     \u001b[35m│\u001b[0m\n",
              "\u001b[35m│\u001b[0m                                                                                                                 \u001b[35m│\u001b[0m\n",
              "\u001b[35m│\u001b[0m                                                                                                                 \u001b[35m│\u001b[0m\n",
              "\u001b[35m╰─────────────────────────────────────────────────────────────────────────────────────────────────────────────────╯\u001b[0m\n"
            ],
            "text/html": [
              "<pre style=\"white-space:pre;overflow-x:auto;line-height:normal;font-family:Menlo,'DejaVu Sans Mono',consolas,'Courier New',monospace\"><span style=\"color: #800080; text-decoration-color: #800080\">╭─────────────────────────────────────────────── Current Decision ────────────────────────────────────────────────╮</span>\n",
              "<span style=\"color: #800080; text-decoration-color: #800080\">│</span>                                                                                                                 <span style=\"color: #800080; text-decoration-color: #800080\">│</span>\n",
              "<span style=\"color: #800080; text-decoration-color: #800080\">│</span> <span style=\"font-weight: bold\">Node:</span> <span style=\"color: #800080; text-decoration-color: #800080\">base</span>                                                                                                      <span style=\"color: #800080; text-decoration-color: #800080\">│</span>\n",
              "<span style=\"color: #800080; text-decoration-color: #800080\">│</span> <span style=\"font-weight: bold\">Decision:</span> <span style=\"color: #008000; text-decoration-color: #008000\">add</span>                                                                                                   <span style=\"color: #800080; text-decoration-color: #800080\">│</span>\n",
              "<span style=\"color: #800080; text-decoration-color: #800080\">│</span> <span style=\"font-weight: bold\">Reasoning:</span> The user's prompt is a straightforward arithmetic question asking for the sum of two integers, 9009  <span style=\"color: #800080; text-decoration-color: #800080\">│</span>\n",
              "<span style=\"color: #800080; text-decoration-color: #800080\">│</span> and 6006. Among the available actions, the \"add\" function is specifically designed to return the sum of two     <span style=\"color: #800080; text-decoration-color: #800080\">│</span>\n",
              "<span style=\"color: #800080; text-decoration-color: #800080\">│</span> integers, making it the most appropriate and direct choice to fulfill the user's request efficiently and        <span style=\"color: #800080; text-decoration-color: #800080\">│</span>\n",
              "<span style=\"color: #800080; text-decoration-color: #800080\">│</span> accurately.                                                                                                     <span style=\"color: #800080; text-decoration-color: #800080\">│</span>\n",
              "<span style=\"color: #800080; text-decoration-color: #800080\">│</span>                                                                                                                 <span style=\"color: #800080; text-decoration-color: #800080\">│</span>\n",
              "<span style=\"color: #800080; text-decoration-color: #800080\">│</span>                                                                                                                 <span style=\"color: #800080; text-decoration-color: #800080\">│</span>\n",
              "<span style=\"color: #800080; text-decoration-color: #800080\">╰─────────────────────────────────────────────────────────────────────────────────────────────────────────────────╯</span>\n",
              "</pre>\n"
            ]
          },
          "metadata": {}
        },
        {
          "output_type": "display_data",
          "data": {
            "text/plain": [
              "\u001b[35m╭─\u001b[0m\u001b[35m──────────────────────────────────────────────\u001b[0m\u001b[35m Current Decision \u001b[0m\u001b[35m───────────────────────────────────────────────\u001b[0m\u001b[35m─╮\u001b[0m\n",
              "\u001b[35m│\u001b[0m                                                                                                                 \u001b[35m│\u001b[0m\n",
              "\u001b[35m│\u001b[0m \u001b[1mNode:\u001b[0m \u001b[35mbase\u001b[0m                                                                                                      \u001b[35m│\u001b[0m\n",
              "\u001b[35m│\u001b[0m \u001b[1mDecision:\u001b[0m \u001b[32mtext_response\u001b[0m                                                                                         \u001b[35m│\u001b[0m\n",
              "\u001b[35m│\u001b[0m \u001b[1mReasoning:\u001b[0m The sum of 9009 and 6006 has already been calculated using the add function, resulting in 15015. The \u001b[35m│\u001b[0m\n",
              "\u001b[35m│\u001b[0m environment confirms this calculation is complete and accurate. Therefore, the next step is to provide the user \u001b[35m│\u001b[0m\n",
              "\u001b[35m│\u001b[0m with the direct answer to their query using a text response.                                                    \u001b[35m│\u001b[0m\n",
              "\u001b[35m│\u001b[0m                                                                                                                 \u001b[35m│\u001b[0m\n",
              "\u001b[35m│\u001b[0m                                                                                                                 \u001b[35m│\u001b[0m\n",
              "\u001b[35m╰─────────────────────────────────────────────────────────────────────────────────────────────────────────────────╯\u001b[0m\n"
            ],
            "text/html": [
              "<pre style=\"white-space:pre;overflow-x:auto;line-height:normal;font-family:Menlo,'DejaVu Sans Mono',consolas,'Courier New',monospace\"><span style=\"color: #800080; text-decoration-color: #800080\">╭─────────────────────────────────────────────── Current Decision ────────────────────────────────────────────────╮</span>\n",
              "<span style=\"color: #800080; text-decoration-color: #800080\">│</span>                                                                                                                 <span style=\"color: #800080; text-decoration-color: #800080\">│</span>\n",
              "<span style=\"color: #800080; text-decoration-color: #800080\">│</span> <span style=\"font-weight: bold\">Node:</span> <span style=\"color: #800080; text-decoration-color: #800080\">base</span>                                                                                                      <span style=\"color: #800080; text-decoration-color: #800080\">│</span>\n",
              "<span style=\"color: #800080; text-decoration-color: #800080\">│</span> <span style=\"font-weight: bold\">Decision:</span> <span style=\"color: #008000; text-decoration-color: #008000\">text_response</span>                                                                                         <span style=\"color: #800080; text-decoration-color: #800080\">│</span>\n",
              "<span style=\"color: #800080; text-decoration-color: #800080\">│</span> <span style=\"font-weight: bold\">Reasoning:</span> The sum of 9009 and 6006 has already been calculated using the add function, resulting in 15015. The <span style=\"color: #800080; text-decoration-color: #800080\">│</span>\n",
              "<span style=\"color: #800080; text-decoration-color: #800080\">│</span> environment confirms this calculation is complete and accurate. Therefore, the next step is to provide the user <span style=\"color: #800080; text-decoration-color: #800080\">│</span>\n",
              "<span style=\"color: #800080; text-decoration-color: #800080\">│</span> with the direct answer to their query using a text response.                                                    <span style=\"color: #800080; text-decoration-color: #800080\">│</span>\n",
              "<span style=\"color: #800080; text-decoration-color: #800080\">│</span>                                                                                                                 <span style=\"color: #800080; text-decoration-color: #800080\">│</span>\n",
              "<span style=\"color: #800080; text-decoration-color: #800080\">│</span>                                                                                                                 <span style=\"color: #800080; text-decoration-color: #800080\">│</span>\n",
              "<span style=\"color: #800080; text-decoration-color: #800080\">╰─────────────────────────────────────────────────────────────────────────────────────────────────────────────────╯</span>\n",
              "</pre>\n"
            ]
          },
          "metadata": {}
        },
        {
          "output_type": "display_data",
          "data": {
            "text/plain": [
              "\u001b[36m╭─\u001b[0m\u001b[36m───────\u001b[0m\u001b[36m Assistant response \u001b[0m\u001b[36m───────\u001b[0m\u001b[36m─╮\u001b[0m\n",
              "\u001b[36m│\u001b[0m                                    \u001b[36m│\u001b[0m\n",
              "\u001b[36m│\u001b[0m The sum of 9009 and 6006 is 15015. \u001b[36m│\u001b[0m\n",
              "\u001b[36m│\u001b[0m                                    \u001b[36m│\u001b[0m\n",
              "\u001b[36m╰────────────────────────────────────╯\u001b[0m\n"
            ],
            "text/html": [
              "<pre style=\"white-space:pre;overflow-x:auto;line-height:normal;font-family:Menlo,'DejaVu Sans Mono',consolas,'Courier New',monospace\"><span style=\"color: #008080; text-decoration-color: #008080\">╭──────── Assistant response ────────╮</span>\n",
              "<span style=\"color: #008080; text-decoration-color: #008080\">│</span>                                    <span style=\"color: #008080; text-decoration-color: #008080\">│</span>\n",
              "<span style=\"color: #008080; text-decoration-color: #008080\">│</span> The sum of 9009 and 6006 is 15015. <span style=\"color: #008080; text-decoration-color: #008080\">│</span>\n",
              "<span style=\"color: #008080; text-decoration-color: #008080\">│</span>                                    <span style=\"color: #008080; text-decoration-color: #008080\">│</span>\n",
              "<span style=\"color: #008080; text-decoration-color: #008080\">╰────────────────────────────────────╯</span>\n",
              "</pre>\n"
            ]
          },
          "metadata": {}
        },
        {
          "output_type": "display_data",
          "data": {
            "text/plain": [],
            "text/html": [
              "<pre style=\"white-space:pre;overflow-x:auto;line-height:normal;font-family:Menlo,'DejaVu Sans Mono',consolas,'Courier New',monospace\"></pre>\n"
            ]
          },
          "metadata": {}
        },
        {
          "output_type": "execute_result",
          "data": {
            "text/plain": [
              "('I will calculate the sum of 9009 and 6006 using the add function. The sum of 9009 and 6006 is 15015.',\n",
              " [[{'tool_result': 15015, '_REF_ID': 'add_default_0_0'}]])"
            ]
          },
          "metadata": {},
          "execution_count": 3
        }
      ]
    },
    {
      "cell_type": "markdown",
      "source": [
        "### 3. Connecting to Weaviate (Optional)\n",
        "\n",
        "If you have a Weaviate Cloud instance, set `WCD_URL` and `WCD_API_KEY` above. Elysia can then query your collections.\n",
        "\n",
        "We must preprocess a collection so Elysia understands field names, types, and summary context.\n"
      ],
      "metadata": {
        "id": "NlFMMQfqZl9b"
      }
    },
    {
      "cell_type": "code",
      "source": [
        "!pip install weaviate-client --quiet"
      ],
      "metadata": {
        "id": "G4vMdO-iZoWr"
      },
      "execution_count": 4,
      "outputs": []
    },
    {
      "cell_type": "code",
      "source": [
        "# Preprocess collections only if Weaviate credentials are provided to access collecations made in Weaviate\n",
        "from elysia.preprocess.collection import preprocess\n",
        "\n",
        "WCD_URL = userdata.get(\"WCD_URL\")\n",
        "WCD_API_KEY = userdata.get(\"WCD_API_KEY\")\n",
        "\n",
        "from elysia import configure\n",
        "\n",
        "configure(\n",
        "    base_model=\"gpt-4o-mini\",\n",
        "    base_provider=\"openai\",\n",
        "    complex_model=\"gpt-4o\",\n",
        "    complex_provider=\"openai\",\n",
        "    openai_api_key=OPENAI_API_KEY,\n",
        "    wcd_url=WCD_URL or None,\n",
        "    wcd_api_key=WCD_API_KEY or None,\n",
        ")\n"
      ],
      "metadata": {
        "id": "M90zCYkOZqBM"
      },
      "execution_count": 6,
      "outputs": []
    },
    {
      "cell_type": "code",
      "source": [
        "if WCD_URL and WCD_API_KEY:\n",
        "    try:\n",
        "        preprocess(\"Student\")\n",
        "        print(\"Preprocessed 'Student' collection.\")\n",
        "    except Exception as e:\n",
        "        print(\"Preprocess skipped or failed:\", e)\n",
        "else:\n",
        "    print(\"Weaviate not configured; skipping preprocessing.\")\n"
      ],
      "metadata": {
        "colab": {
          "base_uri": "https://localhost:8080/",
          "height": 66,
          "referenced_widgets": [
            "df2de9bc86d845a4b629322127031dd4",
            "ae583b118a864b889834114dbd867913"
          ]
        },
        "id": "AdmT3OfYaRcV",
        "outputId": "ae738cda-7645-49b0-bfaa-fb19bf5f67ac"
      },
      "execution_count": 7,
      "outputs": [
        {
          "output_type": "display_data",
          "data": {
            "text/plain": [
              "Output()"
            ],
            "application/vnd.jupyter.widget-view+json": {
              "version_major": 2,
              "version_minor": 0,
              "model_id": "df2de9bc86d845a4b629322127031dd4"
            }
          },
          "metadata": {}
        },
        {
          "output_type": "display_data",
          "data": {
            "text/plain": [
              "\u001b[2;36m[08/19/25 03:39:43]\u001b[0m\u001b[2;36m \u001b[0m\u001b[34mINFO    \u001b[0m Preprocessed metadata for Student already exists!                    \u001b]8;id=943868;file:///usr/local/lib/python3.11/dist-packages/elysia/preprocess/collection.py\u001b\\\u001b[2mcollection.py\u001b[0m\u001b]8;;\u001b\\\u001b[2m:\u001b[0m\u001b]8;id=811795;file:///usr/local/lib/python3.11/dist-packages/elysia/preprocess/collection.py#426\u001b\\\u001b[2m426\u001b[0m\u001b]8;;\u001b\\\n"
            ],
            "text/html": [
              "<pre style=\"white-space:pre;overflow-x:auto;line-height:normal;font-family:Menlo,'DejaVu Sans Mono',consolas,'Courier New',monospace\"><span style=\"color: #7fbfbf; text-decoration-color: #7fbfbf\">[08/19/25 03:39:43] </span><span style=\"color: #000080; text-decoration-color: #000080\">INFO    </span> Preprocessed metadata for Student already exists!                    <a href=\"file:///usr/local/lib/python3.11/dist-packages/elysia/preprocess/collection.py\" target=\"_blank\"><span style=\"color: #7f7f7f; text-decoration-color: #7f7f7f\">collection.py</span></a><span style=\"color: #7f7f7f; text-decoration-color: #7f7f7f\">:</span><a href=\"file:///usr/local/lib/python3.11/dist-packages/elysia/preprocess/collection.py#426\" target=\"_blank\"><span style=\"color: #7f7f7f; text-decoration-color: #7f7f7f\">426</span></a>\n",
              "</pre>\n"
            ]
          },
          "metadata": {}
        },
        {
          "output_type": "display_data",
          "data": {
            "text/plain": [],
            "text/html": [
              "<pre style=\"white-space:pre;overflow-x:auto;line-height:normal;font-family:Menlo,'DejaVu Sans Mono',consolas,'Courier New',monospace\"></pre>\n"
            ]
          },
          "metadata": {}
        },
        {
          "output_type": "stream",
          "name": "stdout",
          "text": [
            "Preprocessed 'Student' collection.\n"
          ]
        }
      ]
    },
    {
      "cell_type": "markdown",
      "source": [
        "### 4. Querying with Natural Language\n",
        "\n",
        "Once preprocessed, you can ask questions in natural language. Elysia chooses the right tools (query, aggregate, summarization) to answer.\n"
      ],
      "metadata": {
        "id": "vL4x9YObaWbE"
      }
    },
    {
      "cell_type": "code",
      "source": [
        "import elysia\n",
        "\n",
        "qa_tree = elysia.Tree()\n",
        "\n",
        "# If Weaviate is configured, pass the collection name(s)\n",
        "if WCD_URL and WCD_API_KEY:\n",
        "    qa_response = qa_tree(\n",
        "        \"What is this dataset about?\",\n",
        "        collection_names=[\"Student\"],\n",
        "    )\n",
        "else:\n",
        "    # Without Weaviate, this will still run but won't retrieve data\n",
        "    qa_response = qa_tree(\"Describe the goal of this tutorial.\")\n",
        "\n",
        "qa_response\n"
      ],
      "metadata": {
        "colab": {
          "base_uri": "https://localhost:8080/",
          "height": 388,
          "referenced_widgets": [
            "6d5be2a7f61f4a6ca307aab05743f59d",
            "65822c66d1864d4690edda7406b02d1e"
          ]
        },
        "id": "bbARs2DPaYi9",
        "outputId": "770b3093-f5ce-4848-bfcc-e55ce4629cd3"
      },
      "execution_count": 8,
      "outputs": [
        {
          "output_type": "display_data",
          "data": {
            "text/plain": [
              "Output()"
            ],
            "application/vnd.jupyter.widget-view+json": {
              "version_major": 2,
              "version_minor": 0,
              "model_id": "6d5be2a7f61f4a6ca307aab05743f59d"
            }
          },
          "metadata": {}
        },
        {
          "output_type": "display_data",
          "data": {
            "text/plain": [
              "\u001b[33m╭─\u001b[0m\u001b[33m───────\u001b[0m\u001b[33m User prompt \u001b[0m\u001b[33m───────\u001b[0m\u001b[33m─╮\u001b[0m\n",
              "\u001b[33m│\u001b[0m                             \u001b[33m│\u001b[0m\n",
              "\u001b[33m│\u001b[0m What is this dataset about? \u001b[33m│\u001b[0m\n",
              "\u001b[33m│\u001b[0m                             \u001b[33m│\u001b[0m\n",
              "\u001b[33m╰─────────────────────────────╯\u001b[0m\n"
            ],
            "text/html": [
              "<pre style=\"white-space:pre;overflow-x:auto;line-height:normal;font-family:Menlo,'DejaVu Sans Mono',consolas,'Courier New',monospace\"><span style=\"color: #808000; text-decoration-color: #808000\">╭──────── User prompt ────────╮</span>\n",
              "<span style=\"color: #808000; text-decoration-color: #808000\">│</span>                             <span style=\"color: #808000; text-decoration-color: #808000\">│</span>\n",
              "<span style=\"color: #808000; text-decoration-color: #808000\">│</span> What is this dataset about? <span style=\"color: #808000; text-decoration-color: #808000\">│</span>\n",
              "<span style=\"color: #808000; text-decoration-color: #808000\">│</span>                             <span style=\"color: #808000; text-decoration-color: #808000\">│</span>\n",
              "<span style=\"color: #808000; text-decoration-color: #808000\">╰─────────────────────────────╯</span>\n",
              "</pre>\n"
            ]
          },
          "metadata": {}
        },
        {
          "output_type": "display_data",
          "data": {
            "text/plain": [
              "\u001b[35m╭─\u001b[0m\u001b[35m──────────────────────────────────────────────\u001b[0m\u001b[35m Current Decision \u001b[0m\u001b[35m───────────────────────────────────────────────\u001b[0m\u001b[35m─╮\u001b[0m\n",
              "\u001b[35m│\u001b[0m                                                                                                                 \u001b[35m│\u001b[0m\n",
              "\u001b[35m│\u001b[0m \u001b[1mNode:\u001b[0m \u001b[35mbase\u001b[0m                                                                                                      \u001b[35m│\u001b[0m\n",
              "\u001b[35m│\u001b[0m \u001b[1mDecision:\u001b[0m \u001b[32mtext_response\u001b[0m                                                                                         \u001b[35m│\u001b[0m\n",
              "\u001b[35m│\u001b[0m \u001b[1mReasoning:\u001b[0m The user is asking about the dataset, which is summarized in the environment. The dataset is about   \u001b[35m│\u001b[0m\n",
              "\u001b[35m│\u001b[0m student academic performance, including various factors like demographics, study habits, and exam scores. Since \u001b[35m│\u001b[0m\n",
              "\u001b[35m│\u001b[0m I have the necessary information in the environment, I can provide a concise response to the user's query.      \u001b[35m│\u001b[0m\n",
              "\u001b[35m│\u001b[0m                                                                                                                 \u001b[35m│\u001b[0m\n",
              "\u001b[35m│\u001b[0m                                                                                                                 \u001b[35m│\u001b[0m\n",
              "\u001b[35m╰─────────────────────────────────────────────────────────────────────────────────────────────────────────────────╯\u001b[0m\n"
            ],
            "text/html": [
              "<pre style=\"white-space:pre;overflow-x:auto;line-height:normal;font-family:Menlo,'DejaVu Sans Mono',consolas,'Courier New',monospace\"><span style=\"color: #800080; text-decoration-color: #800080\">╭─────────────────────────────────────────────── Current Decision ────────────────────────────────────────────────╮</span>\n",
              "<span style=\"color: #800080; text-decoration-color: #800080\">│</span>                                                                                                                 <span style=\"color: #800080; text-decoration-color: #800080\">│</span>\n",
              "<span style=\"color: #800080; text-decoration-color: #800080\">│</span> <span style=\"font-weight: bold\">Node:</span> <span style=\"color: #800080; text-decoration-color: #800080\">base</span>                                                                                                      <span style=\"color: #800080; text-decoration-color: #800080\">│</span>\n",
              "<span style=\"color: #800080; text-decoration-color: #800080\">│</span> <span style=\"font-weight: bold\">Decision:</span> <span style=\"color: #008000; text-decoration-color: #008000\">text_response</span>                                                                                         <span style=\"color: #800080; text-decoration-color: #800080\">│</span>\n",
              "<span style=\"color: #800080; text-decoration-color: #800080\">│</span> <span style=\"font-weight: bold\">Reasoning:</span> The user is asking about the dataset, which is summarized in the environment. The dataset is about   <span style=\"color: #800080; text-decoration-color: #800080\">│</span>\n",
              "<span style=\"color: #800080; text-decoration-color: #800080\">│</span> student academic performance, including various factors like demographics, study habits, and exam scores. Since <span style=\"color: #800080; text-decoration-color: #800080\">│</span>\n",
              "<span style=\"color: #800080; text-decoration-color: #800080\">│</span> I have the necessary information in the environment, I can provide a concise response to the user's query.      <span style=\"color: #800080; text-decoration-color: #800080\">│</span>\n",
              "<span style=\"color: #800080; text-decoration-color: #800080\">│</span>                                                                                                                 <span style=\"color: #800080; text-decoration-color: #800080\">│</span>\n",
              "<span style=\"color: #800080; text-decoration-color: #800080\">│</span>                                                                                                                 <span style=\"color: #800080; text-decoration-color: #800080\">│</span>\n",
              "<span style=\"color: #800080; text-decoration-color: #800080\">╰─────────────────────────────────────────────────────────────────────────────────────────────────────────────────╯</span>\n",
              "</pre>\n"
            ]
          },
          "metadata": {}
        },
        {
          "output_type": "display_data",
          "data": {
            "text/plain": [
              "\u001b[36m╭─\u001b[0m\u001b[36m─────────────────────────────────────────────\u001b[0m\u001b[36m Assistant response \u001b[0m\u001b[36m──────────────────────────────────────────────\u001b[0m\u001b[36m─╮\u001b[0m\n",
              "\u001b[36m│\u001b[0m                                                                                                                 \u001b[36m│\u001b[0m\n",
              "\u001b[36m│\u001b[0m This dataset focuses on student academic performance, capturing demographics, study habits, and exam scores to  \u001b[36m│\u001b[0m\n",
              "\u001b[36m│\u001b[0m analyze factors influencing success.                                                                            \u001b[36m│\u001b[0m\n",
              "\u001b[36m│\u001b[0m                                                                                                                 \u001b[36m│\u001b[0m\n",
              "\u001b[36m╰─────────────────────────────────────────────────────────────────────────────────────────────────────────────────╯\u001b[0m\n"
            ],
            "text/html": [
              "<pre style=\"white-space:pre;overflow-x:auto;line-height:normal;font-family:Menlo,'DejaVu Sans Mono',consolas,'Courier New',monospace\"><span style=\"color: #008080; text-decoration-color: #008080\">╭────────────────────────────────────────────── Assistant response ───────────────────────────────────────────────╮</span>\n",
              "<span style=\"color: #008080; text-decoration-color: #008080\">│</span>                                                                                                                 <span style=\"color: #008080; text-decoration-color: #008080\">│</span>\n",
              "<span style=\"color: #008080; text-decoration-color: #008080\">│</span> This dataset focuses on student academic performance, capturing demographics, study habits, and exam scores to  <span style=\"color: #008080; text-decoration-color: #008080\">│</span>\n",
              "<span style=\"color: #008080; text-decoration-color: #008080\">│</span> analyze factors influencing success.                                                                            <span style=\"color: #008080; text-decoration-color: #008080\">│</span>\n",
              "<span style=\"color: #008080; text-decoration-color: #008080\">│</span>                                                                                                                 <span style=\"color: #008080; text-decoration-color: #008080\">│</span>\n",
              "<span style=\"color: #008080; text-decoration-color: #008080\">╰─────────────────────────────────────────────────────────────────────────────────────────────────────────────────╯</span>\n",
              "</pre>\n"
            ]
          },
          "metadata": {}
        },
        {
          "output_type": "display_data",
          "data": {
            "text/plain": [],
            "text/html": [
              "<pre style=\"white-space:pre;overflow-x:auto;line-height:normal;font-family:Menlo,'DejaVu Sans Mono',consolas,'Courier New',monospace\"></pre>\n"
            ]
          },
          "metadata": {}
        },
        {
          "output_type": "execute_result",
          "data": {
            "text/plain": [
              "('This dataset focuses on student academic performance, capturing demographics, study habits, and exam scores to analyze factors influencing success.',\n",
              " [])"
            ]
          },
          "metadata": {},
          "execution_count": 8
        }
      ]
    },
    {
      "cell_type": "markdown",
      "source": [
        "### 5. Advanced: Custom Analysis Tool (Linear Regression)\n",
        "\n",
        "Sometimes you need custom analysis beyond built-in tools. Below we implement a `BasicLinearRegression` tool as a class that Elysia can call. It:\n",
        "- Extracts numeric fields from retrieved objects in the environment\n",
        "- Fits a simple linear regression (with intercept) using NumPy\n",
        "- Returns coefficients to the environment and plots the fit\n",
        "\n",
        "Theory (very short): for a single feature x and target y, the least-squares solution solves for coefficients β minimizing \\(\\sum_i (y_i - (β_0 + β_1 x_i))^2\\). In matrix form, \\(β = (X^T X)^{-1} X^T y\\) with X having a leading column of ones for the intercept.\n"
      ],
      "metadata": {
        "id": "TTFvCmnmabj7"
      }
    },
    {
      "cell_type": "code",
      "source": [
        "from elysia import Error, Tool, Result\n",
        "import numpy as np\n",
        "import matplotlib.pyplot as plt\n",
        "\n",
        "class BasicLinearRegression(Tool):\n",
        "    def __init__(self, logger=None, **kwargs):\n",
        "        super().__init__(\n",
        "            name=\"basic_linear_regression_tool\",\n",
        "            description=(\n",
        "                \"Use this tool to perform linear regression between two numeric variables \"\n",
        "                \"found in retrieved objects in the environment.\"\n",
        "            ),\n",
        "            status=\"Running linear regression...\",\n",
        "            inputs={\n",
        "                \"environment_key\": {\n",
        "                    \"description\": (\n",
        "                        \"A key of the environment to use (e.g., 'query'). \"\n",
        "                        \"All objects under that key will be used.\"\n",
        "                    ),\n",
        "                    \"required\": True,\n",
        "                    \"type\": str,\n",
        "                    \"default\": None,\n",
        "                },\n",
        "                \"x_variable_field\": {\n",
        "                    \"description\": \"Independent variable field name.\",\n",
        "                    \"required\": True,\n",
        "                    \"type\": str,\n",
        "                    \"default\": None,\n",
        "                },\n",
        "                \"y_variable_field\": {\n",
        "                    \"description\": \"Dependent variable field name.\",\n",
        "                    \"required\": True,\n",
        "                    \"type\": str,\n",
        "                    \"default\": None,\n",
        "                },\n",
        "            },\n",
        "            end=False,\n",
        "        )\n",
        "\n",
        "    async def __call__(\n",
        "        self,\n",
        "        tree_data,\n",
        "        inputs,\n",
        "        base_lm,\n",
        "        complex_lm,\n",
        "        client_manager,\n",
        "        **kwargs,\n",
        "    ):\n",
        "        environment = tree_data.environment.environment\n",
        "        environment_key = inputs[\"environment_key\"]\n",
        "        x_variable_field = inputs[\"x_variable_field\"]\n",
        "        y_variable_field = inputs[\"y_variable_field\"]\n",
        "\n",
        "        try:\n",
        "            X = np.empty((0, 2))\n",
        "            y = np.empty((0, 1))\n",
        "\n",
        "            for inner_key in environment.get(environment_key, {}):\n",
        "                inner_X = np.array(\n",
        "                    [\n",
        "                        [obj[x_variable_field]]\n",
        "                        for environment_list in environment[environment_key][inner_key]\n",
        "                        for obj in environment_list[\"objects\"]\n",
        "                        if x_variable_field in obj and y_variable_field in obj\n",
        "                    ]\n",
        "                )\n",
        "                if inner_X.size == 0:\n",
        "                    continue\n",
        "                inner_X = np.hstack([np.ones((inner_X.shape[0], 1)), inner_X])\n",
        "                X = np.vstack([X, inner_X])\n",
        "\n",
        "                inner_y = np.array(\n",
        "                    [\n",
        "                        [obj[y_variable_field]]\n",
        "                        for environment_list in environment[environment_key][inner_key]\n",
        "                        for obj in environment_list[\"objects\"]\n",
        "                        if x_variable_field in obj and y_variable_field in obj\n",
        "                    ]\n",
        "                )\n",
        "                y = np.vstack([y, inner_y])\n",
        "\n",
        "            if X.shape[0] == 0:\n",
        "                yield Error(\n",
        "                    \"No rows with both fields present. Check field names or query step.\"\n",
        "                )\n",
        "                return\n",
        "\n",
        "            beta_hat = np.linalg.inv(X.T @ X + 1e-10 * np.eye(X.shape[1])) @ X.T @ y\n",
        "            beta_hat_dict = {\n",
        "                \"intercept\": float(beta_hat[0]),\n",
        "                \"slope\": float(beta_hat[1]),\n",
        "            }\n",
        "            pred_y = X @ beta_hat\n",
        "\n",
        "            fig, ax = plt.subplots()\n",
        "            ax.scatter(X[:, 1], y)\n",
        "            ax.plot(X[:, 1], pred_y, color=\"red\")\n",
        "            ax.set_title(\n",
        "                f\"Linear regression between {x_variable_field} and {y_variable_field}\"\n",
        "            )\n",
        "            ax.set_xlabel(x_variable_field)\n",
        "            ax.set_ylabel(y_variable_field)\n",
        "            fig.show()\n",
        "\n",
        "            yield Result(\n",
        "                objects=[beta_hat_dict],\n",
        "                metadata={\n",
        "                    \"x_variable_field\": x_variable_field,\n",
        "                    \"y_variable_field\": y_variable_field,\n",
        "                },\n",
        "                llm_message=(\n",
        "                    \"Completed linear regression analysis where: \"\n",
        "                    f\"x={x_variable_field}, y={y_variable_field}.\"\n",
        "                ),\n",
        "            )\n",
        "        except Exception as e:\n",
        "            yield Error(str(e))\n",
        "\n",
        "    async def is_tool_available(self, tree_data, base_lm, complex_lm, client_manager):\n",
        "        return (\n",
        "            \"query\" in tree_data.environment.environment\n",
        "            and len(tree_data.environment.environment[\"query\"]) > 0\n",
        "        )\n"
      ],
      "metadata": {
        "id": "dp1PQeQLaaxz"
      },
      "execution_count": 9,
      "outputs": []
    },
    {
      "cell_type": "markdown",
      "source": [
        "### 6. Use case: Students dataset — Do more study hours correlate with final exam score?\n",
        "\n",
        "We'll:\n",
        "1) Query the `Student` collection to bring objects into the environment\n",
        "2) Run `BasicLinearRegression` with `x=Study_Hours` and `y=Final_Exam`\n",
        "\n",
        "If your schema uses different field names, adjust the strings in the cell below.\n"
      ],
      "metadata": {
        "id": "jCypWKiraeRk"
      }
    },
    {
      "cell_type": "code",
      "source": [
        "students_tree = elysia.Tree()\n",
        "\n",
        "# Add our custom tool to the tree\n",
        "students_tree.add_tool(BasicLinearRegression)\n",
        "\n",
        "if WCD_URL and WCD_API_KEY:\n",
        "    # Step 1: bring data into the environment\n",
        "    response1 = students_tree(\n",
        "        \"Retrieve student records with study hours and final exam scores\",\n",
        "        collection_names=[\"Student\"],\n",
        "    )\n",
        "\n",
        "    # Step 2: run the regression tool\n",
        "    response2 = students_tree(\n",
        "        \"Run linear regression with x=Study_Hours and y=Final_Exam\",\n",
        "        # Hints to the decision agent via the prompt; the tool will still validate fields\n",
        "    )\n",
        "\n",
        "    response1, response2\n",
        "else:\n",
        "    print(\"Weaviate not configured; skipping Students use case execution.\")\n"
      ],
      "metadata": {
        "colab": {
          "base_uri": "https://localhost:8080/",
          "height": 1000,
          "referenced_widgets": [
            "81ac1909339148e79ecd996a5ec4e869",
            "7d9e82b0194c44d6b9c2170389f95551",
            "9052ab6d4a7a4e36a39970e1cbbdccb6",
            "53c2fff36b4f4436b2e21644457d614e"
          ]
        },
        "id": "5bj65E9zairz",
        "outputId": "e7dbc71d-bd94-4f4e-8e0a-3d21b0a776d9"
      },
      "execution_count": 10,
      "outputs": [
        {
          "output_type": "display_data",
          "data": {
            "text/plain": [
              "Output()"
            ],
            "application/vnd.jupyter.widget-view+json": {
              "version_major": 2,
              "version_minor": 0,
              "model_id": "81ac1909339148e79ecd996a5ec4e869"
            }
          },
          "metadata": {}
        },
        {
          "output_type": "display_data",
          "data": {
            "text/plain": [
              "\u001b[33m╭─\u001b[0m\u001b[33m─────────────────────────\u001b[0m\u001b[33m User prompt \u001b[0m\u001b[33m─────────────────────────\u001b[0m\u001b[33m─╮\u001b[0m\n",
              "\u001b[33m│\u001b[0m                                                                 \u001b[33m│\u001b[0m\n",
              "\u001b[33m│\u001b[0m Retrieve student records with study hours and final exam scores \u001b[33m│\u001b[0m\n",
              "\u001b[33m│\u001b[0m                                                                 \u001b[33m│\u001b[0m\n",
              "\u001b[33m╰─────────────────────────────────────────────────────────────────╯\u001b[0m\n"
            ],
            "text/html": [
              "<pre style=\"white-space:pre;overflow-x:auto;line-height:normal;font-family:Menlo,'DejaVu Sans Mono',consolas,'Courier New',monospace\"><span style=\"color: #808000; text-decoration-color: #808000\">╭────────────────────────── User prompt ──────────────────────────╮</span>\n",
              "<span style=\"color: #808000; text-decoration-color: #808000\">│</span>                                                                 <span style=\"color: #808000; text-decoration-color: #808000\">│</span>\n",
              "<span style=\"color: #808000; text-decoration-color: #808000\">│</span> Retrieve student records with study hours and final exam scores <span style=\"color: #808000; text-decoration-color: #808000\">│</span>\n",
              "<span style=\"color: #808000; text-decoration-color: #808000\">│</span>                                                                 <span style=\"color: #808000; text-decoration-color: #808000\">│</span>\n",
              "<span style=\"color: #808000; text-decoration-color: #808000\">╰─────────────────────────────────────────────────────────────────╯</span>\n",
              "</pre>\n"
            ]
          },
          "metadata": {}
        },
        {
          "output_type": "display_data",
          "data": {
            "text/plain": [
              "\u001b[36m╭─\u001b[0m\u001b[36m───────────────────────────────────────────\u001b[0m\u001b[36m Assistant response \u001b[0m\u001b[36m────────────────────────────────────────────\u001b[0m\u001b[36m─╮\u001b[0m\n",
              "\u001b[36m│\u001b[0m                                                                                                             \u001b[36m│\u001b[0m\n",
              "\u001b[36m│\u001b[0m I will query the \"Student\" collection to retrieve the records containing study hours and final exam scores. \u001b[36m│\u001b[0m\n",
              "\u001b[36m│\u001b[0m                                                                                                             \u001b[36m│\u001b[0m\n",
              "\u001b[36m╰─────────────────────────────────────────────────────────────────────────────────────────────────────────────╯\u001b[0m\n"
            ],
            "text/html": [
              "<pre style=\"white-space:pre;overflow-x:auto;line-height:normal;font-family:Menlo,'DejaVu Sans Mono',consolas,'Courier New',monospace\"><span style=\"color: #008080; text-decoration-color: #008080\">╭──────────────────────────────────────────── Assistant response ─────────────────────────────────────────────╮</span>\n",
              "<span style=\"color: #008080; text-decoration-color: #008080\">│</span>                                                                                                             <span style=\"color: #008080; text-decoration-color: #008080\">│</span>\n",
              "<span style=\"color: #008080; text-decoration-color: #008080\">│</span> I will query the \"Student\" collection to retrieve the records containing study hours and final exam scores. <span style=\"color: #008080; text-decoration-color: #008080\">│</span>\n",
              "<span style=\"color: #008080; text-decoration-color: #008080\">│</span>                                                                                                             <span style=\"color: #008080; text-decoration-color: #008080\">│</span>\n",
              "<span style=\"color: #008080; text-decoration-color: #008080\">╰─────────────────────────────────────────────────────────────────────────────────────────────────────────────╯</span>\n",
              "</pre>\n"
            ]
          },
          "metadata": {}
        },
        {
          "output_type": "display_data",
          "data": {
            "text/plain": [
              "\u001b[35m╭─\u001b[0m\u001b[35m──────────────────────────────────────────────\u001b[0m\u001b[35m Current Decision \u001b[0m\u001b[35m───────────────────────────────────────────────\u001b[0m\u001b[35m─╮\u001b[0m\n",
              "\u001b[35m│\u001b[0m                                                                                                                 \u001b[35m│\u001b[0m\n",
              "\u001b[35m│\u001b[0m \u001b[1mNode:\u001b[0m \u001b[35mbase\u001b[0m                                                                                                      \u001b[35m│\u001b[0m\n",
              "\u001b[35m│\u001b[0m \u001b[1mDecision:\u001b[0m \u001b[32mquery\u001b[0m                                                                                                 \u001b[35m│\u001b[0m\n",
              "\u001b[35m│\u001b[0m \u001b[1mReasoning:\u001b[0m To retrieve student records with study hours and final exam scores, the most appropriate action is   \u001b[35m│\u001b[0m\n",
              "\u001b[35m│\u001b[0m to use the `query` function, as it allows for retrieving specific data entries from the collections. The        \u001b[35m│\u001b[0m\n",
              "\u001b[35m│\u001b[0m \"Student\" collection contains the necessary fields, including \"studyHoursPerWeek\" and \"finalExamScore\". Since   \u001b[35m│\u001b[0m\n",
              "\u001b[35m│\u001b[0m no previous errors have occurred and this is the first attempt, I will proceed with querying the relevant       \u001b[35m│\u001b[0m\n",
              "\u001b[35m│\u001b[0m collection.                                                                                                     \u001b[35m│\u001b[0m\n",
              "\u001b[35m│\u001b[0m                                                                                                                 \u001b[35m│\u001b[0m\n",
              "\u001b[35m│\u001b[0m                                                                                                                 \u001b[35m│\u001b[0m\n",
              "\u001b[35m╰─────────────────────────────────────────────────────────────────────────────────────────────────────────────────╯\u001b[0m\n"
            ],
            "text/html": [
              "<pre style=\"white-space:pre;overflow-x:auto;line-height:normal;font-family:Menlo,'DejaVu Sans Mono',consolas,'Courier New',monospace\"><span style=\"color: #800080; text-decoration-color: #800080\">╭─────────────────────────────────────────────── Current Decision ────────────────────────────────────────────────╮</span>\n",
              "<span style=\"color: #800080; text-decoration-color: #800080\">│</span>                                                                                                                 <span style=\"color: #800080; text-decoration-color: #800080\">│</span>\n",
              "<span style=\"color: #800080; text-decoration-color: #800080\">│</span> <span style=\"font-weight: bold\">Node:</span> <span style=\"color: #800080; text-decoration-color: #800080\">base</span>                                                                                                      <span style=\"color: #800080; text-decoration-color: #800080\">│</span>\n",
              "<span style=\"color: #800080; text-decoration-color: #800080\">│</span> <span style=\"font-weight: bold\">Decision:</span> <span style=\"color: #008000; text-decoration-color: #008000\">query</span>                                                                                                 <span style=\"color: #800080; text-decoration-color: #800080\">│</span>\n",
              "<span style=\"color: #800080; text-decoration-color: #800080\">│</span> <span style=\"font-weight: bold\">Reasoning:</span> To retrieve student records with study hours and final exam scores, the most appropriate action is   <span style=\"color: #800080; text-decoration-color: #800080\">│</span>\n",
              "<span style=\"color: #800080; text-decoration-color: #800080\">│</span> to use the `query` function, as it allows for retrieving specific data entries from the collections. The        <span style=\"color: #800080; text-decoration-color: #800080\">│</span>\n",
              "<span style=\"color: #800080; text-decoration-color: #800080\">│</span> \"Student\" collection contains the necessary fields, including \"studyHoursPerWeek\" and \"finalExamScore\". Since   <span style=\"color: #800080; text-decoration-color: #800080\">│</span>\n",
              "<span style=\"color: #800080; text-decoration-color: #800080\">│</span> no previous errors have occurred and this is the first attempt, I will proceed with querying the relevant       <span style=\"color: #800080; text-decoration-color: #800080\">│</span>\n",
              "<span style=\"color: #800080; text-decoration-color: #800080\">│</span> collection.                                                                                                     <span style=\"color: #800080; text-decoration-color: #800080\">│</span>\n",
              "<span style=\"color: #800080; text-decoration-color: #800080\">│</span>                                                                                                                 <span style=\"color: #800080; text-decoration-color: #800080\">│</span>\n",
              "<span style=\"color: #800080; text-decoration-color: #800080\">│</span>                                                                                                                 <span style=\"color: #800080; text-decoration-color: #800080\">│</span>\n",
              "<span style=\"color: #800080; text-decoration-color: #800080\">╰─────────────────────────────────────────────────────────────────────────────────────────────────────────────────╯</span>\n",
              "</pre>\n"
            ]
          },
          "metadata": {}
        },
        {
          "output_type": "display_data",
          "data": {
            "text/plain": [
              "\u001b[36m╭─\u001b[0m\u001b[36m───────────────────────────────\u001b[0m\u001b[36m Assistant response \u001b[0m\u001b[36m───────────────────────────────\u001b[0m\u001b[36m─╮\u001b[0m\n",
              "\u001b[36m│\u001b[0m                                                                                    \u001b[36m│\u001b[0m\n",
              "\u001b[36m│\u001b[0m I will retrieve the student records focusing on study hours and final exam scores. \u001b[36m│\u001b[0m\n",
              "\u001b[36m│\u001b[0m                                                                                    \u001b[36m│\u001b[0m\n",
              "\u001b[36m╰────────────────────────────────────────────────────────────────────────────────────╯\u001b[0m\n"
            ],
            "text/html": [
              "<pre style=\"white-space:pre;overflow-x:auto;line-height:normal;font-family:Menlo,'DejaVu Sans Mono',consolas,'Courier New',monospace\"><span style=\"color: #008080; text-decoration-color: #008080\">╭──────────────────────────────── Assistant response ────────────────────────────────╮</span>\n",
              "<span style=\"color: #008080; text-decoration-color: #008080\">│</span>                                                                                    <span style=\"color: #008080; text-decoration-color: #008080\">│</span>\n",
              "<span style=\"color: #008080; text-decoration-color: #008080\">│</span> I will retrieve the student records focusing on study hours and final exam scores. <span style=\"color: #008080; text-decoration-color: #008080\">│</span>\n",
              "<span style=\"color: #008080; text-decoration-color: #008080\">│</span>                                                                                    <span style=\"color: #008080; text-decoration-color: #008080\">│</span>\n",
              "<span style=\"color: #008080; text-decoration-color: #008080\">╰────────────────────────────────────────────────────────────────────────────────────╯</span>\n",
              "</pre>\n"
            ]
          },
          "metadata": {}
        },
        {
          "output_type": "display_data",
          "data": {
            "text/plain": [
              "\u001b[33m╭─\u001b[0m\u001b[33m──\u001b[0m\u001b[33m Student (Weaviate Query) \u001b[0m\u001b[33m───\u001b[0m\u001b[33m─╮\u001b[0m\n",
              "\u001b[33m│\u001b[0m                                 \u001b[33m│\u001b[0m\n",
              "\u001b[33m│\u001b[0m collection.query.fetch_objects( \u001b[33m│\u001b[0m\n",
              "\u001b[33m│\u001b[0m     limit=5                     \u001b[33m│\u001b[0m\n",
              "\u001b[33m│\u001b[0m )                               \u001b[33m│\u001b[0m\n",
              "\u001b[33m│\u001b[0m                                 \u001b[33m│\u001b[0m\n",
              "\u001b[33m╰─────────────────────────────────╯\u001b[0m\n"
            ],
            "text/html": [
              "<pre style=\"white-space:pre;overflow-x:auto;line-height:normal;font-family:Menlo,'DejaVu Sans Mono',consolas,'Courier New',monospace\"><span style=\"color: #808000; text-decoration-color: #808000\">╭─── Student (Weaviate Query) ────╮</span>\n",
              "<span style=\"color: #808000; text-decoration-color: #808000\">│</span>                                 <span style=\"color: #808000; text-decoration-color: #808000\">│</span>\n",
              "<span style=\"color: #808000; text-decoration-color: #808000\">│</span> collection.query.fetch_objects( <span style=\"color: #808000; text-decoration-color: #808000\">│</span>\n",
              "<span style=\"color: #808000; text-decoration-color: #808000\">│</span>     limit=5                     <span style=\"color: #808000; text-decoration-color: #808000\">│</span>\n",
              "<span style=\"color: #808000; text-decoration-color: #808000\">│</span> )                               <span style=\"color: #808000; text-decoration-color: #808000\">│</span>\n",
              "<span style=\"color: #808000; text-decoration-color: #808000\">│</span>                                 <span style=\"color: #808000; text-decoration-color: #808000\">│</span>\n",
              "<span style=\"color: #808000; text-decoration-color: #808000\">╰─────────────────────────────────╯</span>\n",
              "</pre>\n"
            ]
          },
          "metadata": {}
        },
        {
          "output_type": "display_data",
          "data": {
            "text/plain": [
              "\u001b[35m╭─\u001b[0m\u001b[35m──────────────────────────────────────\u001b[0m\u001b[35m Current Decision \u001b[0m\u001b[35m───────────────────────────────────────\u001b[0m\u001b[35m─╮\u001b[0m\n",
              "\u001b[35m│\u001b[0m                                                                                                 \u001b[35m│\u001b[0m\n",
              "\u001b[35m│\u001b[0m \u001b[1mNode:\u001b[0m \u001b[35mbase.query\u001b[0m                                                                                \u001b[35m│\u001b[0m\n",
              "\u001b[35m│\u001b[0m \u001b[1mDecision:\u001b[0m \u001b[32mquery_postprocessing\u001b[0m                                                                  \u001b[35m│\u001b[0m\n",
              "\u001b[35m│\u001b[0m \u001b[1mReasoning:\u001b[0m Only one option available: query_postprocessing (and no function inputs are needed). \u001b[35m│\u001b[0m\n",
              "\u001b[35m│\u001b[0m                                                                                                 \u001b[35m│\u001b[0m\n",
              "\u001b[35m│\u001b[0m                                                                                                 \u001b[35m│\u001b[0m\n",
              "\u001b[35m╰─────────────────────────────────────────────────────────────────────────────────────────────────╯\u001b[0m\n"
            ],
            "text/html": [
              "<pre style=\"white-space:pre;overflow-x:auto;line-height:normal;font-family:Menlo,'DejaVu Sans Mono',consolas,'Courier New',monospace\"><span style=\"color: #800080; text-decoration-color: #800080\">╭─────────────────────────────────────── Current Decision ────────────────────────────────────────╮</span>\n",
              "<span style=\"color: #800080; text-decoration-color: #800080\">│</span>                                                                                                 <span style=\"color: #800080; text-decoration-color: #800080\">│</span>\n",
              "<span style=\"color: #800080; text-decoration-color: #800080\">│</span> <span style=\"font-weight: bold\">Node:</span> <span style=\"color: #800080; text-decoration-color: #800080\">base.query</span>                                                                                <span style=\"color: #800080; text-decoration-color: #800080\">│</span>\n",
              "<span style=\"color: #800080; text-decoration-color: #800080\">│</span> <span style=\"font-weight: bold\">Decision:</span> <span style=\"color: #008000; text-decoration-color: #008000\">query_postprocessing</span>                                                                  <span style=\"color: #800080; text-decoration-color: #800080\">│</span>\n",
              "<span style=\"color: #800080; text-decoration-color: #800080\">│</span> <span style=\"font-weight: bold\">Reasoning:</span> Only one option available: query_postprocessing (and no function inputs are needed). <span style=\"color: #800080; text-decoration-color: #800080\">│</span>\n",
              "<span style=\"color: #800080; text-decoration-color: #800080\">│</span>                                                                                                 <span style=\"color: #800080; text-decoration-color: #800080\">│</span>\n",
              "<span style=\"color: #800080; text-decoration-color: #800080\">│</span>                                                                                                 <span style=\"color: #800080; text-decoration-color: #800080\">│</span>\n",
              "<span style=\"color: #800080; text-decoration-color: #800080\">╰─────────────────────────────────────────────────────────────────────────────────────────────────╯</span>\n",
              "</pre>\n"
            ]
          },
          "metadata": {}
        },
        {
          "output_type": "display_data",
          "data": {
            "text/plain": [
              "\u001b[36m╭─\u001b[0m\u001b[36m─────────────────────────────────────────\u001b[0m\u001b[36m Assistant response \u001b[0m\u001b[36m─────────────────────────────────────────\u001b[0m\u001b[36m─╮\u001b[0m\n",
              "\u001b[36m│\u001b[0m                                                                                                        \u001b[36m│\u001b[0m\n",
              "\u001b[36m│\u001b[0m I will now summarize the retrieved student records, including their study hours and final exam scores. \u001b[36m│\u001b[0m\n",
              "\u001b[36m│\u001b[0m                                                                                                        \u001b[36m│\u001b[0m\n",
              "\u001b[36m╰────────────────────────────────────────────────────────────────────────────────────────────────────────╯\u001b[0m\n"
            ],
            "text/html": [
              "<pre style=\"white-space:pre;overflow-x:auto;line-height:normal;font-family:Menlo,'DejaVu Sans Mono',consolas,'Courier New',monospace\"><span style=\"color: #008080; text-decoration-color: #008080\">╭────────────────────────────────────────── Assistant response ──────────────────────────────────────────╮</span>\n",
              "<span style=\"color: #008080; text-decoration-color: #008080\">│</span>                                                                                                        <span style=\"color: #008080; text-decoration-color: #008080\">│</span>\n",
              "<span style=\"color: #008080; text-decoration-color: #008080\">│</span> I will now summarize the retrieved student records, including their study hours and final exam scores. <span style=\"color: #008080; text-decoration-color: #008080\">│</span>\n",
              "<span style=\"color: #008080; text-decoration-color: #008080\">│</span>                                                                                                        <span style=\"color: #008080; text-decoration-color: #008080\">│</span>\n",
              "<span style=\"color: #008080; text-decoration-color: #008080\">╰────────────────────────────────────────────────────────────────────────────────────────────────────────╯</span>\n",
              "</pre>\n"
            ]
          },
          "metadata": {}
        },
        {
          "output_type": "display_data",
          "data": {
            "text/plain": [
              "\u001b[35m╭─\u001b[0m\u001b[35m──────────────────────────────────────────────\u001b[0m\u001b[35m Current Decision \u001b[0m\u001b[35m───────────────────────────────────────────────\u001b[0m\u001b[35m─╮\u001b[0m\n",
              "\u001b[35m│\u001b[0m                                                                                                                 \u001b[35m│\u001b[0m\n",
              "\u001b[35m│\u001b[0m \u001b[1mNode:\u001b[0m \u001b[35mbase\u001b[0m                                                                                                      \u001b[35m│\u001b[0m\n",
              "\u001b[35m│\u001b[0m \u001b[1mDecision:\u001b[0m \u001b[32mcited_summarize\u001b[0m                                                                                       \u001b[35m│\u001b[0m\n",
              "\u001b[35m│\u001b[0m \u001b[1mReasoning:\u001b[0m The query for student records has been successfully executed, retrieving data that includes study    \u001b[35m│\u001b[0m\n",
              "\u001b[35m│\u001b[0m hours and final exam scores from the \"Student\" collection. The next step is to summarize this information for   \u001b[35m│\u001b[0m\n",
              "\u001b[35m│\u001b[0m the user, as the relevant data has been gathered. This aligns with the user's request to retrieve specific      \u001b[35m│\u001b[0m\n",
              "\u001b[35m│\u001b[0m records.                                                                                                        \u001b[35m│\u001b[0m\n",
              "\u001b[35m│\u001b[0m                                                                                                                 \u001b[35m│\u001b[0m\n",
              "\u001b[35m│\u001b[0m                                                                                                                 \u001b[35m│\u001b[0m\n",
              "\u001b[35m╰─────────────────────────────────────────────────────────────────────────────────────────────────────────────────╯\u001b[0m\n"
            ],
            "text/html": [
              "<pre style=\"white-space:pre;overflow-x:auto;line-height:normal;font-family:Menlo,'DejaVu Sans Mono',consolas,'Courier New',monospace\"><span style=\"color: #800080; text-decoration-color: #800080\">╭─────────────────────────────────────────────── Current Decision ────────────────────────────────────────────────╮</span>\n",
              "<span style=\"color: #800080; text-decoration-color: #800080\">│</span>                                                                                                                 <span style=\"color: #800080; text-decoration-color: #800080\">│</span>\n",
              "<span style=\"color: #800080; text-decoration-color: #800080\">│</span> <span style=\"font-weight: bold\">Node:</span> <span style=\"color: #800080; text-decoration-color: #800080\">base</span>                                                                                                      <span style=\"color: #800080; text-decoration-color: #800080\">│</span>\n",
              "<span style=\"color: #800080; text-decoration-color: #800080\">│</span> <span style=\"font-weight: bold\">Decision:</span> <span style=\"color: #008000; text-decoration-color: #008000\">cited_summarize</span>                                                                                       <span style=\"color: #800080; text-decoration-color: #800080\">│</span>\n",
              "<span style=\"color: #800080; text-decoration-color: #800080\">│</span> <span style=\"font-weight: bold\">Reasoning:</span> The query for student records has been successfully executed, retrieving data that includes study    <span style=\"color: #800080; text-decoration-color: #800080\">│</span>\n",
              "<span style=\"color: #800080; text-decoration-color: #800080\">│</span> hours and final exam scores from the \"Student\" collection. The next step is to summarize this information for   <span style=\"color: #800080; text-decoration-color: #800080\">│</span>\n",
              "<span style=\"color: #800080; text-decoration-color: #800080\">│</span> the user, as the relevant data has been gathered. This aligns with the user's request to retrieve specific      <span style=\"color: #800080; text-decoration-color: #800080\">│</span>\n",
              "<span style=\"color: #800080; text-decoration-color: #800080\">│</span> records.                                                                                                        <span style=\"color: #800080; text-decoration-color: #800080\">│</span>\n",
              "<span style=\"color: #800080; text-decoration-color: #800080\">│</span>                                                                                                                 <span style=\"color: #800080; text-decoration-color: #800080\">│</span>\n",
              "<span style=\"color: #800080; text-decoration-color: #800080\">│</span>                                                                                                                 <span style=\"color: #800080; text-decoration-color: #800080\">│</span>\n",
              "<span style=\"color: #800080; text-decoration-color: #800080\">╰─────────────────────────────────────────────────────────────────────────────────────────────────────────────────╯</span>\n",
              "</pre>\n"
            ]
          },
          "metadata": {}
        },
        {
          "output_type": "display_data",
          "data": {
            "text/plain": [
              "\u001b[36m╭─\u001b[0m\u001b[36m─────────────────────────────────────────────\u001b[0m\u001b[36m Assistant response \u001b[0m\u001b[36m──────────────────────────────────────────────\u001b[0m\u001b[36m─╮\u001b[0m\n",
              "\u001b[36m│\u001b[0m                                                                                                                 \u001b[36m│\u001b[0m\n",
              "\u001b[36m│\u001b[0m The retrieved student records indicate varying study hours and final exam scores among the students. For        \u001b[36m│\u001b[0m\n",
              "\u001b[36m│\u001b[0m instance, one student (ID: S037) studied an average of 27 hours per week and scored 59 on the final exam, while \u001b[36m│\u001b[0m\n",
              "\u001b[36m│\u001b[0m another student (ID: S217) dedicated 38 hours per week and achieved a final exam score of 63. Additionally,     \u001b[36m│\u001b[0m\n",
              "\u001b[36m│\u001b[0m student S393, who studied 16 hours per week, scored 64 on the final exam. The data shows a range of study       \u001b[36m│\u001b[0m\n",
              "\u001b[36m│\u001b[0m habits and their corresponding impacts on final exam performance. The records also highlight the pass/fail      \u001b[36m│\u001b[0m\n",
              "\u001b[36m│\u001b[0m status of the students. For example, students S037 and S209 both failed their final exams despite their study   \u001b[36m│\u001b[0m\n",
              "\u001b[36m│\u001b[0m efforts, while students S217 and S393 passed. This suggests that study hours alone may not be the sole          \u001b[36m│\u001b[0m\n",
              "\u001b[36m│\u001b[0m determinant of exam success, as other factors could be influencing the outcomes.                                \u001b[36m│\u001b[0m\n",
              "\u001b[36m│\u001b[0m                                                                                                                 \u001b[36m│\u001b[0m\n",
              "\u001b[36m╰─────────────────────────────────────────────────────────────────────────────────────────────────────────────────╯\u001b[0m\n"
            ],
            "text/html": [
              "<pre style=\"white-space:pre;overflow-x:auto;line-height:normal;font-family:Menlo,'DejaVu Sans Mono',consolas,'Courier New',monospace\"><span style=\"color: #008080; text-decoration-color: #008080\">╭────────────────────────────────────────────── Assistant response ───────────────────────────────────────────────╮</span>\n",
              "<span style=\"color: #008080; text-decoration-color: #008080\">│</span>                                                                                                                 <span style=\"color: #008080; text-decoration-color: #008080\">│</span>\n",
              "<span style=\"color: #008080; text-decoration-color: #008080\">│</span> The retrieved student records indicate varying study hours and final exam scores among the students. For        <span style=\"color: #008080; text-decoration-color: #008080\">│</span>\n",
              "<span style=\"color: #008080; text-decoration-color: #008080\">│</span> instance, one student (ID: S037) studied an average of 27 hours per week and scored 59 on the final exam, while <span style=\"color: #008080; text-decoration-color: #008080\">│</span>\n",
              "<span style=\"color: #008080; text-decoration-color: #008080\">│</span> another student (ID: S217) dedicated 38 hours per week and achieved a final exam score of 63. Additionally,     <span style=\"color: #008080; text-decoration-color: #008080\">│</span>\n",
              "<span style=\"color: #008080; text-decoration-color: #008080\">│</span> student S393, who studied 16 hours per week, scored 64 on the final exam. The data shows a range of study       <span style=\"color: #008080; text-decoration-color: #008080\">│</span>\n",
              "<span style=\"color: #008080; text-decoration-color: #008080\">│</span> habits and their corresponding impacts on final exam performance. The records also highlight the pass/fail      <span style=\"color: #008080; text-decoration-color: #008080\">│</span>\n",
              "<span style=\"color: #008080; text-decoration-color: #008080\">│</span> status of the students. For example, students S037 and S209 both failed their final exams despite their study   <span style=\"color: #008080; text-decoration-color: #008080\">│</span>\n",
              "<span style=\"color: #008080; text-decoration-color: #008080\">│</span> efforts, while students S217 and S393 passed. This suggests that study hours alone may not be the sole          <span style=\"color: #008080; text-decoration-color: #008080\">│</span>\n",
              "<span style=\"color: #008080; text-decoration-color: #008080\">│</span> determinant of exam success, as other factors could be influencing the outcomes.                                <span style=\"color: #008080; text-decoration-color: #008080\">│</span>\n",
              "<span style=\"color: #008080; text-decoration-color: #008080\">│</span>                                                                                                                 <span style=\"color: #008080; text-decoration-color: #008080\">│</span>\n",
              "<span style=\"color: #008080; text-decoration-color: #008080\">╰─────────────────────────────────────────────────────────────────────────────────────────────────────────────────╯</span>\n",
              "</pre>\n"
            ]
          },
          "metadata": {}
        },
        {
          "output_type": "display_data",
          "data": {
            "text/plain": [],
            "text/html": [
              "<pre style=\"white-space:pre;overflow-x:auto;line-height:normal;font-family:Menlo,'DejaVu Sans Mono',consolas,'Courier New',monospace\"></pre>\n"
            ]
          },
          "metadata": {}
        },
        {
          "output_type": "display_data",
          "data": {
            "text/plain": [
              "Output()"
            ],
            "application/vnd.jupyter.widget-view+json": {
              "version_major": 2,
              "version_minor": 0,
              "model_id": "9052ab6d4a7a4e36a39970e1cbbdccb6"
            }
          },
          "metadata": {}
        },
        {
          "output_type": "display_data",
          "data": {
            "text/plain": [
              "\u001b[33m╭─\u001b[0m\u001b[33m──────────────────────\u001b[0m\u001b[33m User prompt \u001b[0m\u001b[33m──────────────────────\u001b[0m\u001b[33m─╮\u001b[0m\n",
              "\u001b[33m│\u001b[0m                                                           \u001b[33m│\u001b[0m\n",
              "\u001b[33m│\u001b[0m Run linear regression with x=Study_Hours and y=Final_Exam \u001b[33m│\u001b[0m\n",
              "\u001b[33m│\u001b[0m                                                           \u001b[33m│\u001b[0m\n",
              "\u001b[33m╰───────────────────────────────────────────────────────────╯\u001b[0m\n"
            ],
            "text/html": [
              "<pre style=\"white-space:pre;overflow-x:auto;line-height:normal;font-family:Menlo,'DejaVu Sans Mono',consolas,'Courier New',monospace\"><span style=\"color: #808000; text-decoration-color: #808000\">╭─────────────────────── User prompt ───────────────────────╮</span>\n",
              "<span style=\"color: #808000; text-decoration-color: #808000\">│</span>                                                           <span style=\"color: #808000; text-decoration-color: #808000\">│</span>\n",
              "<span style=\"color: #808000; text-decoration-color: #808000\">│</span> Run linear regression with x=Study_Hours and y=Final_Exam <span style=\"color: #808000; text-decoration-color: #808000\">│</span>\n",
              "<span style=\"color: #808000; text-decoration-color: #808000\">│</span>                                                           <span style=\"color: #808000; text-decoration-color: #808000\">│</span>\n",
              "<span style=\"color: #808000; text-decoration-color: #808000\">╰───────────────────────────────────────────────────────────╯</span>\n",
              "</pre>\n"
            ]
          },
          "metadata": {}
        },
        {
          "output_type": "display_data",
          "data": {
            "text/plain": [
              "\u001b[36m╭─\u001b[0m\u001b[36m─────────────────────────────────────────────\u001b[0m\u001b[36m Assistant response \u001b[0m\u001b[36m──────────────────────────────────────────────\u001b[0m\u001b[36m─╮\u001b[0m\n",
              "\u001b[36m│\u001b[0m                                                                                                                 \u001b[36m│\u001b[0m\n",
              "\u001b[36m│\u001b[0m I will now perform linear regression using \"Study_Hours\" as the independent variable and \"Final_Exam\" as the    \u001b[36m│\u001b[0m\n",
              "\u001b[36m│\u001b[0m dependent variable based on the retrieved student records.                                                      \u001b[36m│\u001b[0m\n",
              "\u001b[36m│\u001b[0m                                                                                                                 \u001b[36m│\u001b[0m\n",
              "\u001b[36m╰─────────────────────────────────────────────────────────────────────────────────────────────────────────────────╯\u001b[0m\n"
            ],
            "text/html": [
              "<pre style=\"white-space:pre;overflow-x:auto;line-height:normal;font-family:Menlo,'DejaVu Sans Mono',consolas,'Courier New',monospace\"><span style=\"color: #008080; text-decoration-color: #008080\">╭────────────────────────────────────────────── Assistant response ───────────────────────────────────────────────╮</span>\n",
              "<span style=\"color: #008080; text-decoration-color: #008080\">│</span>                                                                                                                 <span style=\"color: #008080; text-decoration-color: #008080\">│</span>\n",
              "<span style=\"color: #008080; text-decoration-color: #008080\">│</span> I will now perform linear regression using \"Study_Hours\" as the independent variable and \"Final_Exam\" as the    <span style=\"color: #008080; text-decoration-color: #008080\">│</span>\n",
              "<span style=\"color: #008080; text-decoration-color: #008080\">│</span> dependent variable based on the retrieved student records.                                                      <span style=\"color: #008080; text-decoration-color: #008080\">│</span>\n",
              "<span style=\"color: #008080; text-decoration-color: #008080\">│</span>                                                                                                                 <span style=\"color: #008080; text-decoration-color: #008080\">│</span>\n",
              "<span style=\"color: #008080; text-decoration-color: #008080\">╰─────────────────────────────────────────────────────────────────────────────────────────────────────────────────╯</span>\n",
              "</pre>\n"
            ]
          },
          "metadata": {}
        },
        {
          "output_type": "display_data",
          "data": {
            "text/plain": [
              "\u001b[35m╭─\u001b[0m\u001b[35m──────────────────────────────────────────────\u001b[0m\u001b[35m Current Decision \u001b[0m\u001b[35m───────────────────────────────────────────────\u001b[0m\u001b[35m─╮\u001b[0m\n",
              "\u001b[35m│\u001b[0m                                                                                                                 \u001b[35m│\u001b[0m\n",
              "\u001b[35m│\u001b[0m \u001b[1mNode:\u001b[0m \u001b[35mbase\u001b[0m                                                                                                      \u001b[35m│\u001b[0m\n",
              "\u001b[35m│\u001b[0m \u001b[1mDecision:\u001b[0m \u001b[32mbasic_linear_regression_tool\u001b[0m                                                                          \u001b[35m│\u001b[0m\n",
              "\u001b[35m│\u001b[0m \u001b[1mReasoning:\u001b[0m To run linear regression with \"Study_Hours\" as the independent variable and \"Final_Exam\" as the      \u001b[35m│\u001b[0m\n",
              "\u001b[35m│\u001b[0m dependent variable, I will use the `basic_linear_regression_tool`. The necessary data is already available in   \u001b[35m│\u001b[0m\n",
              "\u001b[35m│\u001b[0m the environment from the previous query, which retrieved student records containing both study hours and final  \u001b[35m│\u001b[0m\n",
              "\u001b[35m│\u001b[0m exam scores. This is the next logical step to fulfill the user's request.                                       \u001b[35m│\u001b[0m\n",
              "\u001b[35m│\u001b[0m                                                                                                                 \u001b[35m│\u001b[0m\n",
              "\u001b[35m│\u001b[0m                                                                                                                 \u001b[35m│\u001b[0m\n",
              "\u001b[35m╰─────────────────────────────────────────────────────────────────────────────────────────────────────────────────╯\u001b[0m\n"
            ],
            "text/html": [
              "<pre style=\"white-space:pre;overflow-x:auto;line-height:normal;font-family:Menlo,'DejaVu Sans Mono',consolas,'Courier New',monospace\"><span style=\"color: #800080; text-decoration-color: #800080\">╭─────────────────────────────────────────────── Current Decision ────────────────────────────────────────────────╮</span>\n",
              "<span style=\"color: #800080; text-decoration-color: #800080\">│</span>                                                                                                                 <span style=\"color: #800080; text-decoration-color: #800080\">│</span>\n",
              "<span style=\"color: #800080; text-decoration-color: #800080\">│</span> <span style=\"font-weight: bold\">Node:</span> <span style=\"color: #800080; text-decoration-color: #800080\">base</span>                                                                                                      <span style=\"color: #800080; text-decoration-color: #800080\">│</span>\n",
              "<span style=\"color: #800080; text-decoration-color: #800080\">│</span> <span style=\"font-weight: bold\">Decision:</span> <span style=\"color: #008000; text-decoration-color: #008000\">basic_linear_regression_tool</span>                                                                          <span style=\"color: #800080; text-decoration-color: #800080\">│</span>\n",
              "<span style=\"color: #800080; text-decoration-color: #800080\">│</span> <span style=\"font-weight: bold\">Reasoning:</span> To run linear regression with \"Study_Hours\" as the independent variable and \"Final_Exam\" as the      <span style=\"color: #800080; text-decoration-color: #800080\">│</span>\n",
              "<span style=\"color: #800080; text-decoration-color: #800080\">│</span> dependent variable, I will use the `basic_linear_regression_tool`. The necessary data is already available in   <span style=\"color: #800080; text-decoration-color: #800080\">│</span>\n",
              "<span style=\"color: #800080; text-decoration-color: #800080\">│</span> the environment from the previous query, which retrieved student records containing both study hours and final  <span style=\"color: #800080; text-decoration-color: #800080\">│</span>\n",
              "<span style=\"color: #800080; text-decoration-color: #800080\">│</span> exam scores. This is the next logical step to fulfill the user's request.                                       <span style=\"color: #800080; text-decoration-color: #800080\">│</span>\n",
              "<span style=\"color: #800080; text-decoration-color: #800080\">│</span>                                                                                                                 <span style=\"color: #800080; text-decoration-color: #800080\">│</span>\n",
              "<span style=\"color: #800080; text-decoration-color: #800080\">│</span>                                                                                                                 <span style=\"color: #800080; text-decoration-color: #800080\">│</span>\n",
              "<span style=\"color: #800080; text-decoration-color: #800080\">╰─────────────────────────────────────────────────────────────────────────────────────────────────────────────────╯</span>\n",
              "</pre>\n"
            ]
          },
          "metadata": {}
        },
        {
          "output_type": "display_data",
          "data": {
            "text/plain": [
              "\u001b[36m╭─\u001b[0m\u001b[36m─────────────────────────────────────────────\u001b[0m\u001b[36m Assistant response \u001b[0m\u001b[36m─────────────────────────────────────────────\u001b[0m\u001b[36m─╮\u001b[0m\n",
              "\u001b[36m│\u001b[0m                                                                                                                \u001b[36m│\u001b[0m\n",
              "\u001b[36m│\u001b[0m I will now execute the linear regression analysis using the retrieved data for \"Study_Hours\" and \"Final_Exam\". \u001b[36m│\u001b[0m\n",
              "\u001b[36m│\u001b[0m                                                                                                                \u001b[36m│\u001b[0m\n",
              "\u001b[36m╰────────────────────────────────────────────────────────────────────────────────────────────────────────────────╯\u001b[0m\n"
            ],
            "text/html": [
              "<pre style=\"white-space:pre;overflow-x:auto;line-height:normal;font-family:Menlo,'DejaVu Sans Mono',consolas,'Courier New',monospace\"><span style=\"color: #008080; text-decoration-color: #008080\">╭────────────────────────────────────────────── Assistant response ──────────────────────────────────────────────╮</span>\n",
              "<span style=\"color: #008080; text-decoration-color: #008080\">│</span>                                                                                                                <span style=\"color: #008080; text-decoration-color: #008080\">│</span>\n",
              "<span style=\"color: #008080; text-decoration-color: #008080\">│</span> I will now execute the linear regression analysis using the retrieved data for \"Study_Hours\" and \"Final_Exam\". <span style=\"color: #008080; text-decoration-color: #008080\">│</span>\n",
              "<span style=\"color: #008080; text-decoration-color: #008080\">│</span>                                                                                                                <span style=\"color: #008080; text-decoration-color: #008080\">│</span>\n",
              "<span style=\"color: #008080; text-decoration-color: #008080\">╰────────────────────────────────────────────────────────────────────────────────────────────────────────────────╯</span>\n",
              "</pre>\n"
            ]
          },
          "metadata": {}
        },
        {
          "output_type": "display_data",
          "data": {
            "text/plain": [
              "\u001b[35m╭─\u001b[0m\u001b[35m──────────────────────────────────────────────\u001b[0m\u001b[35m Current Decision \u001b[0m\u001b[35m───────────────────────────────────────────────\u001b[0m\u001b[35m─╮\u001b[0m\n",
              "\u001b[35m│\u001b[0m                                                                                                                 \u001b[35m│\u001b[0m\n",
              "\u001b[35m│\u001b[0m \u001b[1mNode:\u001b[0m \u001b[35mbase\u001b[0m                                                                                                      \u001b[35m│\u001b[0m\n",
              "\u001b[35m│\u001b[0m \u001b[1mDecision:\u001b[0m \u001b[32mbasic_linear_regression_tool\u001b[0m                                                                          \u001b[35m│\u001b[0m\n",
              "\u001b[35m│\u001b[0m \u001b[1mReasoning:\u001b[0m The user has requested to run a linear regression with \"Study_Hours\" as the independent variable and \u001b[35m│\u001b[0m\n",
              "\u001b[35m│\u001b[0m \"Final_Exam\" as the dependent variable. The necessary data has already been retrieved from the \"Student\"        \u001b[35m│\u001b[0m\n",
              "\u001b[35m│\u001b[0m collection, which includes both study hours and final exam scores. I will now proceed to execute the linear     \u001b[35m│\u001b[0m\n",
              "\u001b[35m│\u001b[0m regression using the `basic_linear_regression_tool`, as it is the appropriate action for this task.             \u001b[35m│\u001b[0m\n",
              "\u001b[35m│\u001b[0m                                                                                                                 \u001b[35m│\u001b[0m\n",
              "\u001b[35m│\u001b[0m                                                                                                                 \u001b[35m│\u001b[0m\n",
              "\u001b[35m╰─────────────────────────────────────────────────────────────────────────────────────────────────────────────────╯\u001b[0m\n"
            ],
            "text/html": [
              "<pre style=\"white-space:pre;overflow-x:auto;line-height:normal;font-family:Menlo,'DejaVu Sans Mono',consolas,'Courier New',monospace\"><span style=\"color: #800080; text-decoration-color: #800080\">╭─────────────────────────────────────────────── Current Decision ────────────────────────────────────────────────╮</span>\n",
              "<span style=\"color: #800080; text-decoration-color: #800080\">│</span>                                                                                                                 <span style=\"color: #800080; text-decoration-color: #800080\">│</span>\n",
              "<span style=\"color: #800080; text-decoration-color: #800080\">│</span> <span style=\"font-weight: bold\">Node:</span> <span style=\"color: #800080; text-decoration-color: #800080\">base</span>                                                                                                      <span style=\"color: #800080; text-decoration-color: #800080\">│</span>\n",
              "<span style=\"color: #800080; text-decoration-color: #800080\">│</span> <span style=\"font-weight: bold\">Decision:</span> <span style=\"color: #008000; text-decoration-color: #008000\">basic_linear_regression_tool</span>                                                                          <span style=\"color: #800080; text-decoration-color: #800080\">│</span>\n",
              "<span style=\"color: #800080; text-decoration-color: #800080\">│</span> <span style=\"font-weight: bold\">Reasoning:</span> The user has requested to run a linear regression with \"Study_Hours\" as the independent variable and <span style=\"color: #800080; text-decoration-color: #800080\">│</span>\n",
              "<span style=\"color: #800080; text-decoration-color: #800080\">│</span> \"Final_Exam\" as the dependent variable. The necessary data has already been retrieved from the \"Student\"        <span style=\"color: #800080; text-decoration-color: #800080\">│</span>\n",
              "<span style=\"color: #800080; text-decoration-color: #800080\">│</span> collection, which includes both study hours and final exam scores. I will now proceed to execute the linear     <span style=\"color: #800080; text-decoration-color: #800080\">│</span>\n",
              "<span style=\"color: #800080; text-decoration-color: #800080\">│</span> regression using the `basic_linear_regression_tool`, as it is the appropriate action for this task.             <span style=\"color: #800080; text-decoration-color: #800080\">│</span>\n",
              "<span style=\"color: #800080; text-decoration-color: #800080\">│</span>                                                                                                                 <span style=\"color: #800080; text-decoration-color: #800080\">│</span>\n",
              "<span style=\"color: #800080; text-decoration-color: #800080\">│</span>                                                                                                                 <span style=\"color: #800080; text-decoration-color: #800080\">│</span>\n",
              "<span style=\"color: #800080; text-decoration-color: #800080\">╰─────────────────────────────────────────────────────────────────────────────────────────────────────────────────╯</span>\n",
              "</pre>\n"
            ]
          },
          "metadata": {}
        },
        {
          "output_type": "display_data",
          "data": {
            "text/plain": [
              "\u001b[36m╭─\u001b[0m\u001b[36m─────────────────────────────────────────────\u001b[0m\u001b[36m Assistant response \u001b[0m\u001b[36m──────────────────────────────────────────────\u001b[0m\u001b[36m─╮\u001b[0m\n",
              "\u001b[36m│\u001b[0m                                                                                                                 \u001b[36m│\u001b[0m\n",
              "\u001b[36m│\u001b[0m I will now execute the linear regression analysis using the `basic_linear_regression_tool` with \"Study_Hours\"   \u001b[36m│\u001b[0m\n",
              "\u001b[36m│\u001b[0m as the independent variable and \"Final_Exam\" as the dependent variable.                                         \u001b[36m│\u001b[0m\n",
              "\u001b[36m│\u001b[0m                                                                                                                 \u001b[36m│\u001b[0m\n",
              "\u001b[36m╰─────────────────────────────────────────────────────────────────────────────────────────────────────────────────╯\u001b[0m\n"
            ],
            "text/html": [
              "<pre style=\"white-space:pre;overflow-x:auto;line-height:normal;font-family:Menlo,'DejaVu Sans Mono',consolas,'Courier New',monospace\"><span style=\"color: #008080; text-decoration-color: #008080\">╭────────────────────────────────────────────── Assistant response ───────────────────────────────────────────────╮</span>\n",
              "<span style=\"color: #008080; text-decoration-color: #008080\">│</span>                                                                                                                 <span style=\"color: #008080; text-decoration-color: #008080\">│</span>\n",
              "<span style=\"color: #008080; text-decoration-color: #008080\">│</span> I will now execute the linear regression analysis using the `basic_linear_regression_tool` with \"Study_Hours\"   <span style=\"color: #008080; text-decoration-color: #008080\">│</span>\n",
              "<span style=\"color: #008080; text-decoration-color: #008080\">│</span> as the independent variable and \"Final_Exam\" as the dependent variable.                                         <span style=\"color: #008080; text-decoration-color: #008080\">│</span>\n",
              "<span style=\"color: #008080; text-decoration-color: #008080\">│</span>                                                                                                                 <span style=\"color: #008080; text-decoration-color: #008080\">│</span>\n",
              "<span style=\"color: #008080; text-decoration-color: #008080\">╰─────────────────────────────────────────────────────────────────────────────────────────────────────────────────╯</span>\n",
              "</pre>\n"
            ]
          },
          "metadata": {}
        },
        {
          "output_type": "display_data",
          "data": {
            "text/plain": [
              "\u001b[35m╭─\u001b[0m\u001b[35m──────────────────────────────────────────────\u001b[0m\u001b[35m Current Decision \u001b[0m\u001b[35m───────────────────────────────────────────────\u001b[0m\u001b[35m─╮\u001b[0m\n",
              "\u001b[35m│\u001b[0m                                                                                                                 \u001b[35m│\u001b[0m\n",
              "\u001b[35m│\u001b[0m \u001b[1mNode:\u001b[0m \u001b[35mbase\u001b[0m                                                                                                      \u001b[35m│\u001b[0m\n",
              "\u001b[35m│\u001b[0m \u001b[1mDecision:\u001b[0m \u001b[32mbasic_linear_regression_tool\u001b[0m                                                                          \u001b[35m│\u001b[0m\n",
              "\u001b[35m│\u001b[0m \u001b[1mReasoning:\u001b[0m The user has requested to run linear regression with \"Study_Hours\" as the independent variable and   \u001b[35m│\u001b[0m\n",
              "\u001b[35m│\u001b[0m \"Final_Exam\" as the dependent variable. The necessary data has already been retrieved from the \"Student\"        \u001b[35m│\u001b[0m\n",
              "\u001b[35m│\u001b[0m collection, which includes both study hours and final exam scores. I will now proceed to execute the linear     \u001b[35m│\u001b[0m\n",
              "\u001b[35m│\u001b[0m regression using the `basic_linear_regression_tool`, as it is the appropriate action for this task.             \u001b[35m│\u001b[0m\n",
              "\u001b[35m│\u001b[0m                                                                                                                 \u001b[35m│\u001b[0m\n",
              "\u001b[35m│\u001b[0m                                                                                                                 \u001b[35m│\u001b[0m\n",
              "\u001b[35m╰─────────────────────────────────────────────────────────────────────────────────────────────────────────────────╯\u001b[0m\n"
            ],
            "text/html": [
              "<pre style=\"white-space:pre;overflow-x:auto;line-height:normal;font-family:Menlo,'DejaVu Sans Mono',consolas,'Courier New',monospace\"><span style=\"color: #800080; text-decoration-color: #800080\">╭─────────────────────────────────────────────── Current Decision ────────────────────────────────────────────────╮</span>\n",
              "<span style=\"color: #800080; text-decoration-color: #800080\">│</span>                                                                                                                 <span style=\"color: #800080; text-decoration-color: #800080\">│</span>\n",
              "<span style=\"color: #800080; text-decoration-color: #800080\">│</span> <span style=\"font-weight: bold\">Node:</span> <span style=\"color: #800080; text-decoration-color: #800080\">base</span>                                                                                                      <span style=\"color: #800080; text-decoration-color: #800080\">│</span>\n",
              "<span style=\"color: #800080; text-decoration-color: #800080\">│</span> <span style=\"font-weight: bold\">Decision:</span> <span style=\"color: #008000; text-decoration-color: #008000\">basic_linear_regression_tool</span>                                                                          <span style=\"color: #800080; text-decoration-color: #800080\">│</span>\n",
              "<span style=\"color: #800080; text-decoration-color: #800080\">│</span> <span style=\"font-weight: bold\">Reasoning:</span> The user has requested to run linear regression with \"Study_Hours\" as the independent variable and   <span style=\"color: #800080; text-decoration-color: #800080\">│</span>\n",
              "<span style=\"color: #800080; text-decoration-color: #800080\">│</span> \"Final_Exam\" as the dependent variable. The necessary data has already been retrieved from the \"Student\"        <span style=\"color: #800080; text-decoration-color: #800080\">│</span>\n",
              "<span style=\"color: #800080; text-decoration-color: #800080\">│</span> collection, which includes both study hours and final exam scores. I will now proceed to execute the linear     <span style=\"color: #800080; text-decoration-color: #800080\">│</span>\n",
              "<span style=\"color: #800080; text-decoration-color: #800080\">│</span> regression using the `basic_linear_regression_tool`, as it is the appropriate action for this task.             <span style=\"color: #800080; text-decoration-color: #800080\">│</span>\n",
              "<span style=\"color: #800080; text-decoration-color: #800080\">│</span>                                                                                                                 <span style=\"color: #800080; text-decoration-color: #800080\">│</span>\n",
              "<span style=\"color: #800080; text-decoration-color: #800080\">│</span>                                                                                                                 <span style=\"color: #800080; text-decoration-color: #800080\">│</span>\n",
              "<span style=\"color: #800080; text-decoration-color: #800080\">╰─────────────────────────────────────────────────────────────────────────────────────────────────────────────────╯</span>\n",
              "</pre>\n"
            ]
          },
          "metadata": {}
        },
        {
          "output_type": "display_data",
          "data": {
            "text/plain": [
              "\u001b[36m╭─\u001b[0m\u001b[36m─────────────────────────────────────────────\u001b[0m\u001b[36m Assistant response \u001b[0m\u001b[36m──────────────────────────────────────────────\u001b[0m\u001b[36m─╮\u001b[0m\n",
              "\u001b[36m│\u001b[0m                                                                                                                 \u001b[36m│\u001b[0m\n",
              "\u001b[36m│\u001b[0m The linear regression analysis has been completed, showing an intercept of 58.25 and a slope of 0.08,           \u001b[36m│\u001b[0m\n",
              "\u001b[36m│\u001b[0m indicating a positive relationship between study hours and final exam scores.                                   \u001b[36m│\u001b[0m\n",
              "\u001b[36m│\u001b[0m                                                                                                                 \u001b[36m│\u001b[0m\n",
              "\u001b[36m╰─────────────────────────────────────────────────────────────────────────────────────────────────────────────────╯\u001b[0m\n"
            ],
            "text/html": [
              "<pre style=\"white-space:pre;overflow-x:auto;line-height:normal;font-family:Menlo,'DejaVu Sans Mono',consolas,'Courier New',monospace\"><span style=\"color: #008080; text-decoration-color: #008080\">╭────────────────────────────────────────────── Assistant response ───────────────────────────────────────────────╮</span>\n",
              "<span style=\"color: #008080; text-decoration-color: #008080\">│</span>                                                                                                                 <span style=\"color: #008080; text-decoration-color: #008080\">│</span>\n",
              "<span style=\"color: #008080; text-decoration-color: #008080\">│</span> The linear regression analysis has been completed, showing an intercept of 58.25 and a slope of 0.08,           <span style=\"color: #008080; text-decoration-color: #008080\">│</span>\n",
              "<span style=\"color: #008080; text-decoration-color: #008080\">│</span> indicating a positive relationship between study hours and final exam scores.                                   <span style=\"color: #008080; text-decoration-color: #008080\">│</span>\n",
              "<span style=\"color: #008080; text-decoration-color: #008080\">│</span>                                                                                                                 <span style=\"color: #008080; text-decoration-color: #008080\">│</span>\n",
              "<span style=\"color: #008080; text-decoration-color: #008080\">╰─────────────────────────────────────────────────────────────────────────────────────────────────────────────────╯</span>\n",
              "</pre>\n"
            ]
          },
          "metadata": {}
        },
        {
          "output_type": "display_data",
          "data": {
            "text/plain": [
              "\u001b[35m╭─\u001b[0m\u001b[35m──────────────────────────────────────────────\u001b[0m\u001b[35m Current Decision \u001b[0m\u001b[35m───────────────────────────────────────────────\u001b[0m\u001b[35m─╮\u001b[0m\n",
              "\u001b[35m│\u001b[0m                                                                                                                 \u001b[35m│\u001b[0m\n",
              "\u001b[35m│\u001b[0m \u001b[1mNode:\u001b[0m \u001b[35mbase\u001b[0m                                                                                                      \u001b[35m│\u001b[0m\n",
              "\u001b[35m│\u001b[0m \u001b[1mDecision:\u001b[0m \u001b[32mcited_summarize\u001b[0m                                                                                       \u001b[35m│\u001b[0m\n",
              "\u001b[35m│\u001b[0m \u001b[1mReasoning:\u001b[0m The linear regression analysis has been successfully executed using \"Study_Hours\" as the independent \u001b[35m│\u001b[0m\n",
              "\u001b[35m│\u001b[0m variable and \"Final_Exam\" as the dependent variable. The necessary data was retrieved from the \"Student\"        \u001b[35m│\u001b[0m\n",
              "\u001b[35m│\u001b[0m collection, which included both study hours and final exam scores. The regression results indicate an intercept \u001b[35m│\u001b[0m\n",
              "\u001b[35m│\u001b[0m of approximately 58.25 and a slope of about 0.08, suggesting a positive correlation between study hours and     \u001b[35m│\u001b[0m\n",
              "\u001b[35m│\u001b[0m final exam scores.                                                                                              \u001b[35m│\u001b[0m\n",
              "\u001b[35m│\u001b[0m                                                                                                                 \u001b[35m│\u001b[0m\n",
              "\u001b[35m│\u001b[0m                                                                                                                 \u001b[35m│\u001b[0m\n",
              "\u001b[35m╰─────────────────────────────────────────────────────────────────────────────────────────────────────────────────╯\u001b[0m\n"
            ],
            "text/html": [
              "<pre style=\"white-space:pre;overflow-x:auto;line-height:normal;font-family:Menlo,'DejaVu Sans Mono',consolas,'Courier New',monospace\"><span style=\"color: #800080; text-decoration-color: #800080\">╭─────────────────────────────────────────────── Current Decision ────────────────────────────────────────────────╮</span>\n",
              "<span style=\"color: #800080; text-decoration-color: #800080\">│</span>                                                                                                                 <span style=\"color: #800080; text-decoration-color: #800080\">│</span>\n",
              "<span style=\"color: #800080; text-decoration-color: #800080\">│</span> <span style=\"font-weight: bold\">Node:</span> <span style=\"color: #800080; text-decoration-color: #800080\">base</span>                                                                                                      <span style=\"color: #800080; text-decoration-color: #800080\">│</span>\n",
              "<span style=\"color: #800080; text-decoration-color: #800080\">│</span> <span style=\"font-weight: bold\">Decision:</span> <span style=\"color: #008000; text-decoration-color: #008000\">cited_summarize</span>                                                                                       <span style=\"color: #800080; text-decoration-color: #800080\">│</span>\n",
              "<span style=\"color: #800080; text-decoration-color: #800080\">│</span> <span style=\"font-weight: bold\">Reasoning:</span> The linear regression analysis has been successfully executed using \"Study_Hours\" as the independent <span style=\"color: #800080; text-decoration-color: #800080\">│</span>\n",
              "<span style=\"color: #800080; text-decoration-color: #800080\">│</span> variable and \"Final_Exam\" as the dependent variable. The necessary data was retrieved from the \"Student\"        <span style=\"color: #800080; text-decoration-color: #800080\">│</span>\n",
              "<span style=\"color: #800080; text-decoration-color: #800080\">│</span> collection, which included both study hours and final exam scores. The regression results indicate an intercept <span style=\"color: #800080; text-decoration-color: #800080\">│</span>\n",
              "<span style=\"color: #800080; text-decoration-color: #800080\">│</span> of approximately 58.25 and a slope of about 0.08, suggesting a positive correlation between study hours and     <span style=\"color: #800080; text-decoration-color: #800080\">│</span>\n",
              "<span style=\"color: #800080; text-decoration-color: #800080\">│</span> final exam scores.                                                                                              <span style=\"color: #800080; text-decoration-color: #800080\">│</span>\n",
              "<span style=\"color: #800080; text-decoration-color: #800080\">│</span>                                                                                                                 <span style=\"color: #800080; text-decoration-color: #800080\">│</span>\n",
              "<span style=\"color: #800080; text-decoration-color: #800080\">│</span>                                                                                                                 <span style=\"color: #800080; text-decoration-color: #800080\">│</span>\n",
              "<span style=\"color: #800080; text-decoration-color: #800080\">╰─────────────────────────────────────────────────────────────────────────────────────────────────────────────────╯</span>\n",
              "</pre>\n"
            ]
          },
          "metadata": {}
        },
        {
          "output_type": "display_data",
          "data": {
            "text/plain": [
              "\u001b[36m╭─\u001b[0m\u001b[36m─────────────────────────────────────────────\u001b[0m\u001b[36m Assistant response \u001b[0m\u001b[36m──────────────────────────────────────────────\u001b[0m\u001b[36m─╮\u001b[0m\n",
              "\u001b[36m│\u001b[0m                                                                                                                 \u001b[36m│\u001b[0m\n",
              "\u001b[36m│\u001b[0m The linear regression analysis was conducted with \"Study_Hours\" as the independent variable and \"Final_Exam\" as \u001b[36m│\u001b[0m\n",
              "\u001b[36m│\u001b[0m the dependent variable. The results indicate an intercept of approximately 58.25 and a slope of about 0.08.     \u001b[36m│\u001b[0m\n",
              "\u001b[36m│\u001b[0m This suggests a positive correlation between study hours and final exam scores, meaning that as study hours     \u001b[36m│\u001b[0m\n",
              "\u001b[36m│\u001b[0m increase, final exam scores tend to increase as well.                                                           \u001b[36m│\u001b[0m\n",
              "\u001b[36m│\u001b[0m                                                                                                                 \u001b[36m│\u001b[0m\n",
              "\u001b[36m╰─────────────────────────────────────────────────────────────────────────────────────────────────────────────────╯\u001b[0m\n"
            ],
            "text/html": [
              "<pre style=\"white-space:pre;overflow-x:auto;line-height:normal;font-family:Menlo,'DejaVu Sans Mono',consolas,'Courier New',monospace\"><span style=\"color: #008080; text-decoration-color: #008080\">╭────────────────────────────────────────────── Assistant response ───────────────────────────────────────────────╮</span>\n",
              "<span style=\"color: #008080; text-decoration-color: #008080\">│</span>                                                                                                                 <span style=\"color: #008080; text-decoration-color: #008080\">│</span>\n",
              "<span style=\"color: #008080; text-decoration-color: #008080\">│</span> The linear regression analysis was conducted with \"Study_Hours\" as the independent variable and \"Final_Exam\" as <span style=\"color: #008080; text-decoration-color: #008080\">│</span>\n",
              "<span style=\"color: #008080; text-decoration-color: #008080\">│</span> the dependent variable. The results indicate an intercept of approximately 58.25 and a slope of about 0.08.     <span style=\"color: #008080; text-decoration-color: #008080\">│</span>\n",
              "<span style=\"color: #008080; text-decoration-color: #008080\">│</span> This suggests a positive correlation between study hours and final exam scores, meaning that as study hours     <span style=\"color: #008080; text-decoration-color: #008080\">│</span>\n",
              "<span style=\"color: #008080; text-decoration-color: #008080\">│</span> increase, final exam scores tend to increase as well.                                                           <span style=\"color: #008080; text-decoration-color: #008080\">│</span>\n",
              "<span style=\"color: #008080; text-decoration-color: #008080\">│</span>                                                                                                                 <span style=\"color: #008080; text-decoration-color: #008080\">│</span>\n",
              "<span style=\"color: #008080; text-decoration-color: #008080\">╰─────────────────────────────────────────────────────────────────────────────────────────────────────────────────╯</span>\n",
              "</pre>\n"
            ]
          },
          "metadata": {}
        },
        {
          "output_type": "display_data",
          "data": {
            "text/plain": [],
            "text/html": [
              "<pre style=\"white-space:pre;overflow-x:auto;line-height:normal;font-family:Menlo,'DejaVu Sans Mono',consolas,'Courier New',monospace\"></pre>\n"
            ]
          },
          "metadata": {}
        },
        {
          "output_type": "display_data",
          "data": {
            "text/plain": [
              "<Figure size 640x480 with 1 Axes>"
            ],
            "image/png": "[encoded data removed]"
          },
          "metadata": {}
        },
        {
          "output_type": "display_data",
          "data": {
            "text/plain": [
              "<Figure size 640x480 with 1 Axes>"
            ],
            "image/png": "[encoded data removed]"
          },
          "metadata": {}
        },
        {
          "output_type": "display_data",
          "data": {
            "text/plain": [
              "<Figure size 640x480 with 1 Axes>"
            ],
            "image/png": "[encoded data removed]"
          },
          "metadata": {}
        }
      ]
    },
    {
      "cell_type": "markdown",
      "source": [
        "### 7. Interpreting Results\n",
        "\n",
        "- The tool prints the intercept and slope. A positive slope indicates higher `Study_Hours` is associated with higher `Final_Exam`.\n",
        "- The scatterplot displays data points with a red best-fit line.\n",
        "- Always validate with domain knowledge; correlation does not imply causation.\n",
        "\n",
        "Next steps:\n",
        "- Try different x/y fields (e.g., `Attendance` vs `Final_Exam`)\n",
        "- Add categorical handling or multi-feature regression\n",
        "- Build more tools for diagnostics (R², residual analysis)\n"
      ],
      "metadata": {
        "id": "NuExhFhGaiUU"
      }
    }
  ]
}