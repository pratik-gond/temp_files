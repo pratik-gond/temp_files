{
  "nbformat": 4,
  "nbformat_minor": 0,
  "metadata": {
    "colab": {
      "provenance": [],
      "authorship_tag": "ABX9TyNS9FRN4kUWvqsMQCGuibTy",
      "include_colab_link": true
    },
    "kernelspec": {
      "name": "python3",
      "display_name": "Python 3"
    },
    "language_info": {
      "name": "python"
    }
  },
  "cells": [
    {
      "cell_type": "markdown",
      "metadata": {
        "id": "view-in-github",
        "colab_type": "text"
      },
      "source": [
        "<a href=\"https://colab.research.google.com/github/pratik-gond/temp_files/blob/main/GeminiURL_Config.ipynb\" target=\"_parent\"><img src=\"https://colab.research.google.com/assets/colab-badge.svg\" alt=\"Open In Colab\"/></a>"
      ]
    },
    {
      "cell_type": "markdown",
      "source": [
        "<img src=\"https://drive.google.com/uc?export=view&id=1wYSMgJtARFdvTt5g7E20mE4NmwUFUuog\" width=\"200\">\n",
        "\n",
        "[![Build Fast with AI](https://img.shields.io/badge/BuildFastWithAI-GenAI%20Bootcamp-blue?style=for-the-badge&logo=artificial-intelligence)](https://www.buildfastwithai.com/genai-course)\n",
        "[![EduChain GitHub](https://img.shields.io/github/stars/satvik314/educhain?style=for-the-badge&logo=github&color=gold)](https://github.com/satvik314/educhain)\n",
        "\n",
        "[![Open In Colab](https://colab.research.google.com/assets/colab-badge.svg)](https://colab.research.google.com/drive/1KxCJz4FIwiiR6kjuk8w8SiQJzu8uZuzB?usp=sharing)\n",
        "## Master Generative AI in 6 Weeks\n",
        "**What You'll Learn:**\n",
        "- Build with Latest LLMs\n",
        "- Create Custom AI Apps\n",
        "- Learn from Industry Experts\n",
        "- Join Innovation Community\n",
        "Transform your AI ideas into reality through hands-on projects and expert mentorship.\n",
        "[Start Your Journey](https://www.buildfastwithai.com/genai-course)\n",
        "*Empowering the Next Generation of AI Innovators"
      ],
      "metadata": {
        "id": "sXY_IFiexqwt"
      }
    },
    {
      "cell_type": "markdown",
      "source": [
        "# Gemini URL Context Starter Notebook\n",
        "\n",
        "Use this notebook to learn and quickly prototype with the URL Context tool in the Google GenAI SDK. The URL Context tool lets models fetch and reason over live content from URLs you provide, so the model can ground its answers in fresh or specific sources.\n",
        "\n",
        "What you'll do:\n",
        "- Understand URL Context in a sentence or two\n",
        "- Set up the SDK and authentication\n",
        "- Run a basic example (compare two pages)\n",
        "- Inspect retrieval metadata\n",
        "- Synthesize across multiple URLs with structured JSON output\n",
        "- Combine URL Context with Google Search for agentic browsing\n",
        "\n",
        "Prerequisites:\n",
        "- A Gemini API key set in the environment variable `GEMINI_API_KEY`\n"
      ],
      "metadata": {
        "id": "bCxUIii6xE8d"
      }
    },
    {
      "cell_type": "markdown",
      "source": [
        "## What is URL Context?\n",
        "\n",
        "- The URL Context tool allows Gemini models to retrieve and use content from URLs that you explicitly provide in your request.\n",
        "- Retrieval uses an optimized cache first and falls back to live fetch for newer content.\n",
        "- Retrieved content counts toward input tokens; the tool supports up to 20 URLs per request and up to ~34MB per URL.\n",
        "- Safety checks are enforced. Unsupported sources include paywalled pages and certain media types.\n",
        "\n",
        "When to use it:\n",
        "- Extract facts, compare documents, build summaries across multiple sources\n",
        "- Power agentic workflows that browse and then analyze pages\n"
      ],
      "metadata": {
        "id": "FuDQmf_Qx6gM"
      }
    },
    {
      "cell_type": "code",
      "execution_count": 1,
      "metadata": {
        "colab": {
          "base_uri": "https://localhost:8080/"
        },
        "id": "-dj0akR_i92L",
        "outputId": "a3092631-3348-4495-ddcd-84c5ecc5ae9e"
      },
      "outputs": [
        {
          "output_type": "stream",
          "name": "stdout",
          "text": [
            "\u001b[2K     \u001b[90m━━━━━━━━━━━━━━━━━━━━━━━━━━━━━━━━━━━━━━━━\u001b[0m \u001b[32m43.1/43.1 kB\u001b[0m \u001b[31m1.6 MB/s\u001b[0m eta \u001b[36m0:00:00\u001b[0m\n",
            "\u001b[2K   \u001b[90m━━━━━━━━━━━━━━━━━━━━━━━━━━━━━━━━━━━━━━━━\u001b[0m \u001b[32m231.9/231.9 kB\u001b[0m \u001b[31m5.7 MB/s\u001b[0m eta \u001b[36m0:00:00\u001b[0m\n",
            "\u001b[?25h"
          ]
        }
      ],
      "source": [
        "%pip install -U -q google-genai"
      ]
    },
    {
      "cell_type": "code",
      "source": [
        "from google import genai\n",
        "from google.genai import types\n",
        "from google.colab import userdata\n",
        "\n",
        "API_KEY = userdata.get('GEMINI_API_KEY')\n",
        "if not API_KEY:\n",
        "    raise RuntimeError(\"GEMINI_API_KEY not found\")\n",
        "\n",
        "client = genai.Client(api_key=API_KEY)\n",
        "MODEL_ID = \"gemini-2.5-flash\""
      ],
      "metadata": {
        "id": "hLkC0Z_okXe2"
      },
      "execution_count": 2,
      "outputs": []
    },
    {
      "cell_type": "markdown",
      "source": [
        "## Basic: Compare two pages\n",
        "\n",
        "We'll ask the model to compare two recipe pages using URL Context. The tool is enabled by adding `url_context` to the `tools` configuration.\n"
      ],
      "metadata": {
        "id": "aALp5TmyxNYB"
      }
    },
    {
      "cell_type": "code",
      "source": [
        "from google.genai.types import GenerateContentConfig\n",
        "\n",
        "tools = [\n",
        "    {\"url_context\": {}},\n",
        "]\n",
        "\n",
        "url1 = \"https://www.foodnetwork.com/recipes/ina-garten/perfect-roast-chicken-recipe-1940592\"\n",
        "url2 = \"https://www.foodnetwork.com/recipes/perfect-roast-chicken-3645195\"\n",
        "\n",
        "response = client.models.generate_content(\n",
        "    model=MODEL_ID,\n",
        "    contents=f\"Compare the ingredients and cooking times from the recipes at {url1} and {url2}\",\n",
        "    config=types.GenerateContentConfig(\n",
        "        tools=tools,\n",
        "    ),\n",
        ")\n",
        "\n",
        "print(response.text)\n"
      ],
      "metadata": {
        "colab": {
          "base_uri": "https://localhost:8080/"
        },
        "id": "J4Ns1cHYk0iZ",
        "outputId": "2c43f434-c8d9-402d-c71f-711ecf781f38"
      },
      "execution_count": 5,
      "outputs": [
        {
          "output_type": "stream",
          "name": "stdout",
          "text": [
            "Here's a comparison of the ingredients and cooking times for the two \"Perfect Roast Chicken\" recipes from Food Network:\n",
            "\n",
            "**Ina Garten's Perfect Roast Chicken**\n",
            "*   **Ingredients:**\n",
            "    *   5 to 6 pound roasting chicken\n",
            "    *   Kosher salt\n",
            "    *   Freshly ground black pepper\n",
            "    *   1 large bunch fresh thyme, plus 20 sprigs\n",
            "    *   1 lemon, halved\n",
            "    *   1 head garlic, cut in half crosswise\n",
            "    *   2 tablespoons (1/4 stick) butter, melted\n",
            "    *   1 large yellow onion, thickly sliced\n",
            "    *   4 carrots cut into 2-inch chunks\n",
            "    *   1 bulb of fennel, tops removed, and cut into wedges\n",
            "    *   Olive oil\n",
            "*   **Cooking Time:** 1 hour 30 minutes\n",
            "*   **Total Time:** 2 hours 10 minutes (Prep: 20 min, Inactive: 20 min, Cook: 1 hour 30 min)\n",
            "*   **Oven Temperature:** 425 degrees F\n",
            "*   **Yield:** 8 servings\n",
            "\n",
            "**Food Network's Perfect Roast Chicken (Emeril Lagasse)**\n",
            "*   **Ingredients:**\n",
            "    *   3 carrots, peeled and cut into thirds\n",
            "    *   3 ribs celery, peeled and cut into thirds\n",
            "    *   3 onions, peeled and cut into quarters\n",
            "    *   1 (3 1/2 to 4 pound) chicken\n",
            "    *   1 1/2 tablespoons kosher salt\n",
            "    *   2 teaspoons cracked white pepper\n",
            "    *   1 lemon, halved\n",
            "    *   2 fresh bay leaves\n",
            "    *   6 cloves garlic, roughly chopped\n",
            "    *   4 sprigs rosemary, roughly chopped, plus 1 tablespoon for gravy\n",
            "    *   2 tablespoons olive oil\n",
            "    *   2 tablespoons unsalted butter, at room temperature\n",
            "    *   1 cup chicken stock\n",
            "    *   2 tablespoons roasted garlic\n",
            "    *   1 cup dry white wine\n",
            "*   **Cooking Time:** 50 minutes\n",
            "*   **Total Time:** 1 hour 20 minutes (Prep: 15 min, Inactive: 15 min, Cook: 50 min)\n",
            "*   **Oven Temperature:** 500 degrees F\n",
            "*   **Yield:** 1 roast chicken, 3 to 4 servings\n",
            "\n",
            "**Comparison Highlights:**\n",
            "\n",
            "*   **Chicken Size:** Ina Garten's recipe uses a larger chicken (5-6 pounds) compared to the Emeril Lagasse recipe (3 1/2-4 pounds).\n",
            "*   **Aromatics/Vegetables:** Both recipes use onion, carrots, and lemon. However, Ina Garten's recipe includes fennel and a whole head of garlic, while Emeril's uses celery, bay leaves, rosemary, and specifically calls for roasted garlic in the gravy.\n",
            "*   **Fat:** Ina Garten uses melted butter, while Emeril uses room temperature unsalted butter and olive oil.\n",
            "*   **Seasoning/Flavor Profile:** Ina Garten's recipe focuses on thyme, lemon, and garlic. Emeril's recipe includes rosemary, bay leaves, white pepper, and creates a pan gravy with chicken stock, roasted garlic, and white wine.\n",
            "*   **Cooking Temperature and Time:** Ina Garten's recipe roasts at a lower temperature (425°F) for a longer duration (1 hour 30 minutes). Emeril Lagasse's recipe roasts at a higher temperature (500°F) for a shorter time (40 to 50 minutes).\n",
            "*   **Yield:** Ina Garten's recipe yields 8 servings, whereas Emeril's yields 3 to 4 servings.\n",
            "Here's a comparison of the ingredients and cooking times for the two \"Perfect Roast Chicken\" recipes from Food Network:\n",
            "\n",
            "**Ina Garten's Perfect Roast Chicken**\n",
            "*   **Ingredients:**\n",
            "    *   1 (5 to 6 pound) roasting chicken\n",
            "    *   Kosher salt\n",
            "    *   Freshly ground black pepper\n",
            "    *   1 large bunch fresh thyme, plus 20 sprigs\n",
            "    *   1 lemon, halved\n",
            "    *   1 head garlic, cut in half crosswise\n",
            "    *   2 tablespoons (1/4 stick) butter, melted\n",
            "    *   1 large yellow onion, thickly sliced\n",
            "    *   4 carrots cut into 2-inch chunks\n",
            "    *   1 bulb of fennel, tops removed, and cut into wedges\n",
            "    *   Olive oil\n",
            "*   **Cooking Time:** 1 hour 30 minutes, roasted at 425 degrees F.\n",
            "*   **Total Time:** 2 hours 10 minutes (20 minutes prep, 20 minutes inactive, 1 hour 30 minutes cook time).\n",
            "*   **Yield:** 8 servings.\n",
            "\n",
            "**Food Network's Perfect Roast Chicken (Emeril Lagasse)**\n",
            "*   **Ingredients:**\n",
            "    *   3 carrots, peeled and cut into thirds\n",
            "    *   3 ribs celery, peeled and cut into thirds\n",
            "    *   3 onions, peeled and cut into quarters\n",
            "    *   1 (3 1/2 to 4 pound) chicken\n",
            "    *   1 1/2 tablespoons kosher salt\n",
            "    *   2 teaspoons cracked white pepper\n",
            "    *   1 lemon, halved\n",
            "    *   2 fresh bay leaves\n",
            "    *   6 cloves garlic, roughly chopped\n",
            "    *   4 sprigs rosemary, roughly chopped, plus 1 tablespoon for gravy\n",
            "    *   2 tablespoons olive oil\n",
            "    *   2 tablespoons unsalted butter, at room temperature\n",
            "    *   1 cup chicken stock\n",
            "    *   2 tablespoons roasted garlic\n",
            "    *   1 cup dry white wine\n",
            "*   **Cooking Time:** 40 to 50 minutes, roasted at 500 degrees F.\n",
            "*   **Total Time:** 1 hour 20 minutes (15 minutes prep, 15 minutes inactive, 50 minutes cook time).\n",
            "*   **Yield:** 1 roast chicken, 3 to 4 servings.\n",
            "\n",
            "**Key Differences:**\n",
            "\n",
            "*   **Chicken Size & Yield:** Ina Garten's recipe uses a larger chicken (5-6 lbs) and yields more servings (8) compared to the Emeril Lagasse recipe (3.5-4 lbs, yielding 3-4 servings).\n",
            "*   **Oven Temperature & Cook Time:** Ina Garten's recipe bakes at 425°F for 1.5 hours, while Emeril's bakes at a higher 500°F for a shorter 40-50 minutes.\n",
            "*   **Aromatics & Flavor:** Both use lemon, onion, and carrots. Ina Garten's recipe incorporates thyme, a whole head of garlic, and fennel. Emeril's recipe includes celery, bay leaves, rosemary, and uses chicken stock, roasted garlic, and white wine for a pan gravy.\n"
          ]
        }
      ]
    },
    {
      "cell_type": "markdown",
      "source": [
        "## Inspect URL retrieval metadata\n",
        "\n",
        "You can verify which URLs were fetched and their status via `url_context_metadata` on the response.\n"
      ],
      "metadata": {
        "id": "6blrF6qCxR4t"
      }
    },
    {
      "cell_type": "code",
      "source": [
        "metadata = getattr(response.candidates[0], \"url_context_metadata\", None)\n",
        "if metadata and getattr(metadata, \"url_metadata\", None):\n",
        "    for item in metadata.url_metadata:\n",
        "        print(f\"retrieved_url: {item.retrieved_url}\")\n",
        "        print(f\"status: {item.url_retrieval_status}\")\n",
        "        print(\"-\")\n",
        "else:\n",
        "    print(\"No url_context_metadata present or tool not used in this response.\")\n"
      ],
      "metadata": {
        "colab": {
          "base_uri": "https://localhost:8080/"
        },
        "id": "NlxfS-DAk1Ip",
        "outputId": "8ab762ef-93bf-4e9c-919b-1654817fdf6b"
      },
      "execution_count": 6,
      "outputs": [
        {
          "output_type": "stream",
          "name": "stdout",
          "text": [
            "retrieved_url: https://www.foodnetwork.com/recipes/perfect-roast-chicken-3645195\n",
            "status: UrlRetrievalStatus.URL_RETRIEVAL_STATUS_SUCCESS\n",
            "-\n",
            "retrieved_url: https://www.foodnetwork.com/recipes/ina-garten/perfect-roast-chicken-recipe-1940592\n",
            "status: UrlRetrievalStatus.URL_RETRIEVAL_STATUS_SUCCESS\n",
            "-\n"
          ]
        }
      ]
    },
    {
      "cell_type": "markdown",
      "source": [
        "## Intermediate: Multi-URL synthesis with structured output\n",
        "\n",
        "Ask the model to read several URLs and return a normalized JSON summary. We'll constrain the response using `response_mime_type` and `response_schema`.\n"
      ],
      "metadata": {
        "id": "JXu8cC_kxYAN"
      }
    },
    {
      "cell_type": "code",
      "source": [
        "from pydantic import BaseModel\n",
        "import json\n",
        "\n",
        "class PageSummary(BaseModel):\n",
        "    url: str\n",
        "    title: str | None = None\n",
        "    key_points: list[str]\n",
        "\n",
        "class Synthesis(BaseModel):\n",
        "    pages: list[PageSummary]\n",
        "    cross_findings: list[str]\n",
        "\n",
        "urls = [\n",
        "    \"https://www.foodnetwork.com/recipes/ina-garten/perfect-roast-chicken-recipe-1940592\",\n",
        "    \"https://www.foodnetwork.com/recipes/perfect-roast-chicken-3645195\",\n",
        "]\n",
        "\n",
        "response = client.models.generate_content(\n",
        "    model=MODEL_ID,\n",
        "    contents=(\n",
        "        \"Read the following URLs and return a concise ONLY JSON with: for each page (url, title, 3-5 key_points) and 3-5 cross_findings that compare/contrast them.\\n\"\n",
        "        + \"\\n\".join(urls)\n",
        "    ),\n",
        "    config=types.GenerateContentConfig(\n",
        "        tools=[{\"url_context\": {}}],\n",
        "        response_schema=Synthesis,\n",
        "    ),\n",
        ")\n",
        "\n",
        "print((response.text))\n"
      ],
      "metadata": {
        "colab": {
          "base_uri": "https://localhost:8080/"
        },
        "id": "FQ5uyLoYpKdU",
        "outputId": "02e0ed7f-23b2-416b-b45b-0d9941a0303b"
      },
      "execution_count": 30,
      "outputs": [
        {
          "output_type": "stream",
          "name": "stdout",
          "text": [
            "```json\n",
            "{\n",
            "  \"pages\": [\n",
            "    {\n",
            "      \"url\": \"https://www.foodnetwork.com/recipes/ina-garten/perfect-roast-chicken-recipe-1940592\",\n",
            "      \"title\": \"Perfect Roast Chicken Recipe | Ina Garten | Food Network\",\n",
            "      \"key_points\": [\n",
            "        \"Recipe is by Ina Garten, adapted from 'The Barefoot Contessa Cookbook'. [1]\",\n",
            "        \"Calls for a 5 to 6-pound roasting chicken. [1]\",\n",
            "        \"The chicken cavity is stuffed with fresh thyme, lemon halves, and garlic. [1]\",\n",
            "        \"The chicken is roasted at 425 degrees F for 1 1/2 hours. [1]\",\n",
            "        \"Vegetables like onions, carrots, and fennel are roasted in the pan with the chicken. [1]\"\n",
            "      ]\n",
            "    },\n",
            "    {\n",
            "      \"url\": \"https://www.foodnetwork.com/recipes/perfect-roast-chicken-3645195\",\n",
            "      \"title\": \"Perfect Roast Chicken Recipe | Food Network\",\n",
            "      \"key_points\": [\n",
            "        \"Recipe is by Emeril Lagasse. [2]\",\n",
            "        \"Uses a smaller chicken, 3 1/2 to 4 pounds. [2]\",\n",
            "        \"The chicken cavity is stuffed with lemon rinds and bay leaves, and rubbed with a garlic-rosemary blend. [2]\",\n",
            "        \"The chicken is roasted at a high temperature of 500 degrees F for 40 to 50 minutes. [2]\",\n",
            "        \"Carrots, celery, and onions are roasted alongside, and a pan gravy is made from the drippings with chicken stock and white wine. [2]\"\n",
            "      ]\n",
            "    }\n",
            "  ],\n",
            "  \"cross_findings\": [\n",
            "    \"The recipes are by different chefs: one by Ina Garten [1] and the other by Emeril Lagasse [2].\",\n",
            "    \"Ina Garten's recipe uses a lower roasting temperature (425°F) for a longer duration (1.5 hours) [1], while Emeril Lagasse's recipe uses a significantly higher temperature (500°F) for a shorter time (40-50 minutes) [2].\",\n",
            "    \"Ina Garten's recipe specifies a larger chicken (5-6 pounds) [1], whereas Emeril Lagasse's uses a smaller chicken (3 1/2 to 4 pounds) [2].\",\n",
            "    \"Both recipes utilize lemon and garlic for flavor, but Ina Garten includes fresh thyme [1], while Emeril Lagasse incorporates bay leaves and rosemary, also rubbing the chicken with a blend of olive oil, butter, garlic, and rosemary [2].\",\n",
            "    \"Both recipes roast vegetables (carrots, onions) with the chicken, but Ina Garten's recipe includes fennel [1], and Emeril Lagasse's recipe adds celery and details making a pan gravy with chicken stock and white wine [2].\"\n",
            "  ]\n",
            "}\n",
            "```\n"
          ]
        }
      ]
    },
    {
      "cell_type": "markdown",
      "source": [
        "## Advanced: Combine URL Context with Google Search\n",
        "\n",
        "Enable both `url_context` and `google_search` so the model can find relevant sources first, then fetch the pages for deeper analysis.\n"
      ],
      "metadata": {
        "id": "mfemcJADxbjK"
      }
    },
    {
      "cell_type": "code",
      "source": [
        "tools = [\n",
        "    {\"url_context\": {}},\n",
        "    {\"google_search\": {}},\n",
        "]\n",
        "\n",
        "prompt = (\n",
        "    \"Find 2-3 recent articles about urban micromobility trends (e-scooters, e-bikes), \"\n",
        "    \"then provide a 5-bullet synthesis with a short source attribution after each bullet.\"\n",
        ")\n",
        "\n",
        "response = client.models.generate_content(\n",
        "    model=MODEL_ID,\n",
        "    contents=prompt,\n",
        "    config=types.GenerateContentConfig(tools=tools),\n",
        ")\n",
        "\n",
        "print(response.text)\n",
        "print(\"\\n\\n\")\n",
        "\n",
        "# Inspect which URLs were fetched\n",
        "metadata = getattr(response.candidates[0], \"url_context_metadata\", None)\n",
        "if metadata and getattr(metadata, \"url_metadata\", None):\n",
        "    for item in metadata.url_metadata:\n",
        "        print(f\"retrieved_url: {item.retrieved_url}\")\n",
        "        print(f\"status: {item.url_retrieval_status}\")\n",
        "        print(\"-\")\n"
      ],
      "metadata": {
        "colab": {
          "base_uri": "https://localhost:8080/"
        },
        "id": "KlnNVgDdt3Yc",
        "outputId": "fe4e623d-e0b7-402c-f65f-ac86b92e48e9"
      },
      "execution_count": 31,
      "outputs": [
        {
          "output_type": "stream",
          "name": "stdout",
          "text": [
            "Here's a 5-bullet synthesis of recent urban micromobility trends:\n",
            "\n",
            "*   **Growing Popularity and Market Growth:** Urban micro-commuting, driven by e-scooters and e-bikes, is rapidly gaining traction as cities seek sustainable and efficient transportation options. The global micro-mobility market was valued at USD 101.02 billion in 2023 and is projected to reach USD 303.47 billion by 2032.\n",
            "*   **Solving \"Last-Mile\" and Congestion Challenges:** E-scooters and e-bikes are crucial for bridging the \"last mile\" gap between public transit and destinations, and they help reduce traffic congestion by taking up less road space than cars.\n",
            "*   **Environmental and Cost Benefits:** These electric vehicles produce zero direct emissions, contributing to cleaner air and aligning with urban sustainability goals. They also offer a cost-effective alternative to car ownership or frequent ridesharing for users.\n",
            "*   **Infrastructure and Regulatory Evolution:** As micromobility grows, cities are investing in infrastructure like designated bike lanes and parking areas while also implementing regulations regarding speed limits and helmet use to ensure safety and integrate these devices into existing transportation systems.\n",
            "*   **Enhanced Accessibility and Equity:** Micromobility solutions improve accessibility for diverse populations, including those with mobility challenges or in underserved communities, by offering affordable and flexible transportation options that can reduce physical strain and bridge transit gaps.\n",
            "\n",
            "\n",
            "\n",
            "retrieved_url: https://vertexaisearch.cloud.google.com/grounding-api-redirect/AUZIYQHEbOuy6LUQvceWa6qsNNiST9xeNDe1M4hRv4Ls4Hka8JNHMr4HcrWdiMye_rKb39UPtNecHgPpOXlNiHNX46mNpEkcBJ9IMvLnj2DSmBDKEuGtcx7e6Q9gZdMEiSazzEStrD-2vdk-_laLcqWttyKJj0wH3zUg2cxphpCK4FW5j1bmg-6eweGG9GmMMH1v4hJNlmqrje4vlcsasWjuXsMXCHx79eD3X8n8hfPQX7ygfg2G4ZQ9uD4=\n",
            "status: UrlRetrievalStatus.URL_RETRIEVAL_STATUS_SUCCESS\n",
            "-\n",
            "retrieved_url: https://vertexaisearch.cloud.google.com/grounding-api-redirect/AUZIYQG1T07vV4hyMKS4E2gVhn54WQFu446oSqIdHqQ6ywmK6LOK5g6vv1PyZ_tK2qSQKcJNZivSbcXXmjh7SOw6DaJD0E9DUBAFM4bAvvDFQ4mwfEpp_R5-QBdjf3FW4JU9ZNUoGj-MLHksUeger3LlNG9Z8yx2winLsS5GXDsed5t1oRTU2ZZxUuxFCVy4CV2BTuqvzTS04-HMVl3m4g5V3FXei-l_VJiPXOMkVnu2qw==\n",
            "status: UrlRetrievalStatus.URL_RETRIEVAL_STATUS_SUCCESS\n",
            "-\n",
            "retrieved_url: https://vertexaisearch.cloud.google.com/grounding-api-redirect/AUZIYQEbJUOLLDvquAW-1HbqJa6o9iPFRWeCWKzSOLFGYLweJIuBx8uID7zd1rDRST_MF2RqEm00CoXIFlx0Cuvqeg6wOYBaXdMgYfgV1vWzSrPbe9NpUq0jCPZp0Zos2F7SwjshVxFgGFAtaZyNqS4fYx4hYRKgb0tU-d7twYrK0scuzNN1V0U6fa3OtFTvcW12IMLpHKqb6g==\n",
            "status: UrlRetrievalStatus.URL_RETRIEVAL_STATUS_SUCCESS\n",
            "-\n"
          ]
        }
      ]
    },
    {
      "cell_type": "markdown",
      "source": [
        "## Notes, limits, and tips\n",
        "\n",
        "- Provide full URLs (with protocol) that are publicly accessible.\n",
        "- Limit to 20 URLs per request; each URL content up to ~34MB.\n",
        "- Retrieved content counts toward input tokens (cost). Monitor `usage_metadata` if needed.\n",
        "- Some URLs may be blocked by safety filters; check `url_context_metadata` for status.\n",
        "- For repeat use across turns, include URLs again or cache context using other features (e.g., files or caches).\n",
        "- Consider structured outputs (JSON) for downstream automation.\n"
      ],
      "metadata": {
        "id": "McGSDeeCxfVD"
      }
    }
  ]
}